{
 "cells": [
  {
   "cell_type": "code",
   "execution_count": 1,
   "id": "802cddc2",
   "metadata": {},
   "outputs": [
    {
     "name": "stdout",
     "output_type": "stream",
     "text": [
      "[44, 43, 1, 55, 2, 3, 4, 5, 6]\n"
     ]
    }
   ],
   "source": [
    "long_list= [44, 43,1, 55,2, 3, 4,5,6]\n",
    "print(long_list)"
   ]
  },
  {
   "cell_type": "code",
   "execution_count": 2,
   "id": "529ba5cc",
   "metadata": {},
   "outputs": [
    {
     "name": "stdout",
     "output_type": "stream",
     "text": [
      "True\n"
     ]
    }
   ],
   "source": [
    "question= 4 in long_list # search 4 in long_list?\n",
    "print(question)"
   ]
  },
  {
   "cell_type": "code",
   "execution_count": 3,
   "id": "079b6ecd",
   "metadata": {},
   "outputs": [
    {
     "name": "stdout",
     "output_type": "stream",
     "text": [
      "[1, 2, 3, 4, 5, 6, 43, 44, 55]\n"
     ]
    }
   ],
   "source": [
    "D= sorted(long_list)\n",
    "print(D)"
   ]
  },
  {
   "cell_type": "code",
   "execution_count": 4,
   "id": "59e11286",
   "metadata": {},
   "outputs": [
    {
     "name": "stdout",
     "output_type": "stream",
     "text": [
      "[1, 3, 5, 43, 55]\n"
     ]
    }
   ],
   "source": [
    "D= sorted(long_list)\n",
    "print(D[::2])"
   ]
  },
  {
   "cell_type": "code",
   "execution_count": 5,
   "id": "614514bc",
   "metadata": {},
   "outputs": [
    {
     "name": "stdout",
     "output_type": "stream",
     "text": [
      "[55, 44, 43, 6, 5, 4, 3, 2, 1]\n"
     ]
    }
   ],
   "source": [
    "D= sorted(long_list)\n",
    "print(D[::-1])"
   ]
  },
  {
   "cell_type": "code",
   "execution_count": 6,
   "id": "f8ee413f",
   "metadata": {},
   "outputs": [
    {
     "name": "stdout",
     "output_type": "stream",
     "text": [
      "[1, 2, 3, 4, 5, 6, 43, 44, 55]\n",
      "[44, 43, 1, 55, 2, 3, 4, 5, 6]\n"
     ]
    }
   ],
   "source": [
    "D= sorted(long_list)\n",
    "print(D)\n",
    "print(long_list)"
   ]
  },
  {
   "cell_type": "code",
   "execution_count": 7,
   "id": "b19e0cfc",
   "metadata": {},
   "outputs": [
    {
     "name": "stdout",
     "output_type": "stream",
     "text": [
      "[1, 2, 3, 4, 5, 6, 43, 44, 55]\n",
      "[44, 43, 1, 55, 2, 3, 4, 5, 6]\n",
      "[55, 44, 43, 6, 5, 4, 3, 2, 1]\n"
     ]
    }
   ],
   "source": [
    "D= sorted(long_list) # sorted dont change on long_list\n",
    "print(D)\n",
    "print(long_list)\n",
    "print(D[::-1])"
   ]
  },
  {
   "cell_type": "code",
   "execution_count": 8,
   "id": "a5da7b16",
   "metadata": {},
   "outputs": [
    {
     "name": "stdout",
     "output_type": "stream",
     "text": [
      "[44, 43, 1, 55, 2, 3, 4, 5, 6]\n",
      "[1, 2, 3, 4, 5, 6, 43, 44, 55]\n"
     ]
    }
   ],
   "source": [
    "long_list= [44, 43,1, 55,2, 3, 4,5,6]\n",
    "print(long_list)\n",
    "long_list= sorted(long_list) # cahnged on long_list (1 2 3 4 )\n",
    "print(long_list)"
   ]
  },
  {
   "cell_type": "code",
   "execution_count": 9,
   "id": "1d7a2402",
   "metadata": {},
   "outputs": [
    {
     "name": "stdout",
     "output_type": "stream",
     "text": [
      "[1, 2, 3, 4, 5, 6, 43, 44, 55]\n"
     ]
    }
   ],
   "source": [
    "print(long_list)"
   ]
  },
  {
   "cell_type": "code",
   "execution_count": 10,
   "id": "7adfa745",
   "metadata": {},
   "outputs": [
    {
     "name": "stdout",
     "output_type": "stream",
     "text": [
      "[44, 43, 1, 55, 2, 3, 4, 5, 6]\n",
      "[55, 44, 43, 6, 5, 4, 3, 2, 1]\n"
     ]
    }
   ],
   "source": [
    "long_list= [44, 43,1, 55,2, 3, 4,5,6]\n",
    "print(long_list)\n",
    "long_list= sorted(long_list)[::-1] # cahnged on long_list (55 44 43)\n",
    "print(long_list)"
   ]
  },
  {
   "cell_type": "code",
   "execution_count": 11,
   "id": "f0d5ba08",
   "metadata": {},
   "outputs": [
    {
     "name": "stdout",
     "output_type": "stream",
     "text": [
      "[55, 44, 43, 6, 5, 4, 3, 2, 1]\n"
     ]
    }
   ],
   "source": [
    "print(long_list)"
   ]
  },
  {
   "cell_type": "code",
   "execution_count": 12,
   "id": "5dfb8b3b",
   "metadata": {},
   "outputs": [
    {
     "name": "stdout",
     "output_type": "stream",
     "text": [
      "[44, 43, 1, 55, 2, 3, 4, 5, 6]\n"
     ]
    }
   ],
   "source": [
    "long_list= [44, 43,1, 55,2, 3, 4,5,6]\n",
    "print(long_list)"
   ]
  },
  {
   "cell_type": "code",
   "execution_count": 13,
   "id": "41082358",
   "metadata": {},
   "outputs": [
    {
     "name": "stdout",
     "output_type": "stream",
     "text": [
      "[1, 2, 3, 4, 5, 6, 43, 44, 55]\n"
     ]
    }
   ],
   "source": [
    "long_list.sort()\n",
    "print(long_list)"
   ]
  },
  {
   "cell_type": "code",
   "execution_count": 14,
   "id": "e0cd01b7",
   "metadata": {},
   "outputs": [
    {
     "name": "stdout",
     "output_type": "stream",
     "text": [
      "[55, 44, 43, 6, 5, 4, 3, 2, 1]\n"
     ]
    }
   ],
   "source": [
    "long_list.sort(reverse=True) # sort(reverse=True)\n",
    "print(long_list)"
   ]
  },
  {
   "cell_type": "code",
   "execution_count": 15,
   "id": "03512e45",
   "metadata": {},
   "outputs": [
    {
     "name": "stdout",
     "output_type": "stream",
     "text": [
      "element4\n",
      "element1\n",
      "element8\n",
      "element6\n",
      "element3\n",
      "element2\n",
      "element7\n",
      "element5\n",
      "element9\n"
     ]
    }
   ],
   "source": [
    "element_list= [\"element4\", \"element1\", \"element8\", \"element6\", \"element3\", \"element2\", \"element7\", \"element5\", \"element9\"]\n",
    "print(*element_list, sep= \"\\n\")"
   ]
  },
  {
   "cell_type": "code",
   "execution_count": 16,
   "id": "b2189214",
   "metadata": {},
   "outputs": [
    {
     "name": "stdout",
     "output_type": "stream",
     "text": [
      "['element9', 'element8', 'element7', 'element6', 'element5', 'element4', 'element3', 'element2', 'element1']\n"
     ]
    }
   ],
   "source": [
    "element_list.sort(reverse=True)\n",
    "print(element_list)"
   ]
  },
  {
   "cell_type": "code",
   "execution_count": 17,
   "id": "693f14f5",
   "metadata": {},
   "outputs": [
    {
     "name": "stdout",
     "output_type": "stream",
     "text": [
      "['element1', 'element2', 'element3', 'element4', 'element5', 'element6', 'element7', 'element8', 'element9']\n"
     ]
    }
   ],
   "source": [
    "element_list.sort()\n",
    "print(element_list)"
   ]
  },
  {
   "cell_type": "code",
   "execution_count": 18,
   "id": "99d12f50",
   "metadata": {},
   "outputs": [
    {
     "name": "stdout",
     "output_type": "stream",
     "text": [
      "[44, 1, 34, 5, 'element1', 'element2', 'element3', 'element4', 'element5', 'element6', 'element7', 'element8', 'element9', 9, 45, 89, 90]\n"
     ]
    }
   ],
   "source": [
    "element_list= [44, 1, 34, 5] + element_list + [9, 45, 89, 90]\n",
    "print(element_list)"
   ]
  },
  {
   "cell_type": "code",
   "execution_count": 20,
   "id": "01cc7837",
   "metadata": {},
   "outputs": [
    {
     "ename": "TypeError",
     "evalue": "'<' not supported between instances of 'str' and 'int'",
     "output_type": "error",
     "traceback": [
      "\u001b[1;31m---------------------------------------------------------------------------\u001b[0m",
      "\u001b[1;31mTypeError\u001b[0m                                 Traceback (most recent call last)",
      "Cell \u001b[1;32mIn[20], line 1\u001b[0m\n\u001b[1;32m----> 1\u001b[0m element_list\u001b[38;5;241m.\u001b[39msort()\n",
      "\u001b[1;31mTypeError\u001b[0m: '<' not supported between instances of 'str' and 'int'"
     ]
    }
   ],
   "source": [
    "element_list.sort() # ERROR - Dont use String and int or float / All string or Numeric"
   ]
  },
  {
   "cell_type": "code",
   "execution_count": 24,
   "id": "e44e5e20",
   "metadata": {},
   "outputs": [
    {
     "name": "stdout",
     "output_type": "stream",
     "text": [
      "['element4', 'element1', 'element8', 'element6', 'element3', 'element2', 'element7', 'element5', 'element9']\n"
     ]
    }
   ],
   "source": [
    "print([\"element4\", \"element1\", \"element8\", \"element6\", \"element3\", \"element2\", \"element7\", \"element5\", \"element9\"])"
   ]
  },
  {
   "cell_type": "code",
   "execution_count": 29,
   "id": "73d9ce5e",
   "metadata": {},
   "outputs": [
    {
     "name": "stdout",
     "output_type": "stream",
     "text": [
      "[]\n"
     ]
    }
   ],
   "source": [
    "element_list.clear()\n",
    "print(element_list)"
   ]
  },
  {
   "cell_type": "code",
   "execution_count": 30,
   "id": "0b728687",
   "metadata": {},
   "outputs": [
    {
     "name": "stdout",
     "output_type": "stream",
     "text": [
      "[]\n"
     ]
    }
   ],
   "source": [
    "element_list=[]\n",
    "print(element_list)"
   ]
  },
  {
   "cell_type": "code",
   "execution_count": 31,
   "id": "7181b187",
   "metadata": {},
   "outputs": [
    {
     "name": "stdout",
     "output_type": "stream",
     "text": [
      "element4\n",
      "element1\n",
      "element8\n",
      "element6\n",
      "element3\n",
      "element2\n",
      "element7\n",
      "element5\n",
      "element9\n",
      "element4\n",
      "element1\n",
      "element8\n",
      "element6\n",
      "element3\n",
      "element2\n",
      "element7\n",
      "element5\n",
      "element9\n"
     ]
    }
   ],
   "source": [
    "element_list= [\"element4\", \"element1\", \"element8\", \"element6\", \"element3\", \"element2\", \"element7\", \"element5\", \"element9\"]\n",
    "new_element_list= element_list.copy()\n",
    "print(*element_list, sep= \"\\n\")\n",
    "print(*new_element_list, sep= \"\\n\")"
   ]
  },
  {
   "cell_type": "code",
   "execution_count": 34,
   "id": "bfafe38e",
   "metadata": {},
   "outputs": [
    {
     "name": "stdout",
     "output_type": "stream",
     "text": [
      "['element4', 'element1', 'element8', 'element6', 'element3', 'element2', 'element7', 'element5', 'element9']\n",
      "['element4', 'element1', 'element8', 'element6', 'element3', 'element2', 'element7', 'element5', 'element9']\n"
     ]
    }
   ],
   "source": [
    "element_list= [\"element4\", \"element1\", \"element8\", \"element6\", \"element3\", \"element2\", \"element7\", \"element5\", \"element9\"]\n",
    "new_element_list= element_list.copy()\n",
    "print(element_list)\n",
    "print(new_element_list)"
   ]
  },
  {
   "cell_type": "code",
   "execution_count": 35,
   "id": "38769bc1",
   "metadata": {},
   "outputs": [
    {
     "name": "stdout",
     "output_type": "stream",
     "text": [
      "13\n"
     ]
    }
   ],
   "source": [
    "char_list= ['A', 'B', 'C', 'D', 'E', 'G', 'X', 'Z', 'A', 'F', 'X', 'Y', 'A'] \n",
    "print(len(char_list))"
   ]
  },
  {
   "cell_type": "code",
   "execution_count": 37,
   "id": "9e69ee09",
   "metadata": {},
   "outputs": [
    {
     "name": "stdout",
     "output_type": "stream",
     "text": [
      "3\n"
     ]
    }
   ],
   "source": [
    "print(char_list.count('A'))"
   ]
  },
  {
   "cell_type": "code",
   "execution_count": 39,
   "id": "088dd71f",
   "metadata": {},
   "outputs": [
    {
     "name": "stdout",
     "output_type": "stream",
     "text": [
      "6\n"
     ]
    }
   ],
   "source": [
    "print(char_list.index('X'))"
   ]
  },
  {
   "cell_type": "code",
   "execution_count": 40,
   "id": "ac289990",
   "metadata": {},
   "outputs": [
    {
     "name": "stdout",
     "output_type": "stream",
     "text": [
      "['A', 'Y', 'X', 'F', 'A', 'Z', 'X', 'G', 'E', 'D', 'C', 'B', 'A']\n"
     ]
    }
   ],
   "source": [
    "char_list.reverse()\n",
    "print(char_list)"
   ]
  },
  {
   "cell_type": "code",
   "execution_count": 42,
   "id": "84f477d4",
   "metadata": {},
   "outputs": [
    {
     "name": "stdout",
     "output_type": "stream",
     "text": [
      "['H', 'e', 'l', 'l', 'o']\n"
     ]
    }
   ],
   "source": [
    "list1=list(\"Hello\")\n",
    "print(list1)"
   ]
  },
  {
   "cell_type": "code",
   "execution_count": 45,
   "id": "4d106557",
   "metadata": {},
   "outputs": [
    {
     "name": "stdout",
     "output_type": "stream",
     "text": [
      "H_e_l_l_o\n"
     ]
    }
   ],
   "source": [
    "word=\"_\".join(list1)  # join only string\n",
    "print(word)"
   ]
  },
  {
   "cell_type": "markdown",
   "id": "d2fee87c",
   "metadata": {},
   "source": [
    "## RANDOM LIBRARY"
   ]
  },
  {
   "cell_type": "code",
   "execution_count": 46,
   "id": "209c97e7",
   "metadata": {},
   "outputs": [],
   "source": [
    "import random"
   ]
  },
  {
   "cell_type": "code",
   "execution_count": 47,
   "id": "a1bc66a3",
   "metadata": {},
   "outputs": [
    {
     "name": "stdout",
     "output_type": "stream",
     "text": [
      "Cuneyt Atesman\n",
      "Metin Alagoz\n",
      "Naci Serdar\n",
      "Abdulselam Kaya\n",
      "Sadık Tuncer\n",
      "Asım Dursun\n",
      "Semiha Yalçın\n",
      "Durmuş Alahanlı\n",
      "Mahmut Sadık\n",
      "Aydın Tara\n",
      "Seda Demir\n",
      "Haydar Burgaz\n",
      "Demirhan Kolay\n",
      "Sevdiye Hayrat\n"
     ]
    }
   ],
   "source": [
    "name_list=[\"Cuneyt Atesman\",\n",
    "           \"Metin Alagoz\",\n",
    "           \"Naci Serdar\",\n",
    "           \"Abdulselam Kaya\",\n",
    "           \"Sadık Tuncer\",\n",
    "           \"Asım Dursun\",\n",
    "           \"Semiha Yalçın\",\n",
    "           \"Durmuş Alahanlı\",\n",
    "           \"Mahmut Sadık\",\n",
    "           \"Aydın Tara\",\n",
    "           \"Seda Demir\",\n",
    "           \"Haydar Burgaz\",\n",
    "           \"Demirhan Kolay\",\n",
    "           \"Sevdiye Hayrat\"\n",
    "          ]\n",
    "\n",
    "print(*name_list, sep= \"\\n\")"
   ]
  },
  {
   "cell_type": "code",
   "execution_count": 50,
   "id": "2e326d50",
   "metadata": {},
   "outputs": [
    {
     "name": "stdout",
     "output_type": "stream",
     "text": [
      "['Sevdiye Hayrat', 'Haydar Burgaz', 'Asım Dursun', 'Semiha Yalçın', 'Mahmut Sadık', 'Aydın Tara', 'Cuneyt Atesman', 'Seda Demir', 'Durmuş Alahanlı', 'Naci Serdar', 'Abdulselam Kaya', 'Demirhan Kolay', 'Sadık Tuncer', 'Metin Alagoz']\n"
     ]
    }
   ],
   "source": [
    "random.shuffle(name_list)\n",
    "print(name_list)"
   ]
  },
  {
   "cell_type": "code",
   "execution_count": null,
   "id": "03f62ffa",
   "metadata": {},
   "outputs": [],
   "source": []
  }
 ],
 "metadata": {
  "kernelspec": {
   "display_name": "Python 3 (ipykernel)",
   "language": "python",
   "name": "python3"
  },
  "language_info": {
   "codemirror_mode": {
    "name": "ipython",
    "version": 3
   },
   "file_extension": ".py",
   "mimetype": "text/x-python",
   "name": "python",
   "nbconvert_exporter": "python",
   "pygments_lexer": "ipython3",
   "version": "3.11.9"
  }
 },
 "nbformat": 4,
 "nbformat_minor": 5
}
