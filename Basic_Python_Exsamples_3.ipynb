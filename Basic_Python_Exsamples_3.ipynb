{
 "cells": [
  {
   "cell_type": "code",
   "execution_count": 3,
   "id": "12de483e",
   "metadata": {},
   "outputs": [
    {
     "name": "stdout",
     "output_type": "stream",
     "text": [
      "<class 'bool'>\n",
      "True\n"
     ]
    }
   ],
   "source": [
    "answer= True\n",
    "print(type(answer))\n",
    "\n",
    "number=5\n",
    "print(bool(number))"
   ]
  },
  {
   "cell_type": "code",
   "execution_count": 6,
   "id": "7d90cf40",
   "metadata": {},
   "outputs": [
    {
     "name": "stdout",
     "output_type": "stream",
     "text": [
      "Please Enter Name Surname: cuneyt\n",
      "Hello cuneyt\n"
     ]
    }
   ],
   "source": [
    "name_Surname= input(\"Please Enter Name Surname: \")\n",
    "\n",
    "if len(name_Surname)>0:\n",
    "    \n",
    "    print(\"Hello\" , name_Surname)\n",
    "else:\n",
    "    print(\"Try again Enter Name Surname\")"
   ]
  },
  {
   "cell_type": "code",
   "execution_count": 8,
   "id": "6edf7d18",
   "metadata": {},
   "outputs": [
    {
     "name": "stdout",
     "output_type": "stream",
     "text": [
      "True\n",
      "False\n"
     ]
    }
   ],
   "source": [
    "number= 44\n",
    "ask= 15 <= number < 55\n",
    "print(ask)\n",
    "\n",
    "\n",
    "answer= 15 <= answer and answer < 55\n",
    "print(answer)"
   ]
  },
  {
   "cell_type": "code",
   "execution_count": 20,
   "id": "f6725b52",
   "metadata": {},
   "outputs": [
    {
     "name": "stdout",
     "output_type": "stream",
     "text": [
      "Enter Number:20\n",
      "The number entered is between 15 and 45.\n"
     ]
    }
   ],
   "source": [
    "number= int(input(\"Enter Number:\"))\n",
    "if not 15 <= number <= 45:\n",
    "    print(\"The number entered is NOT between 15 and 45.\")\n",
    "else:\n",
    "    print(\"The number entered is between 15 and 45.\")"
   ]
  },
  {
   "cell_type": "code",
   "execution_count": 16,
   "id": "357b13fe",
   "metadata": {},
   "outputs": [
    {
     "name": "stdout",
     "output_type": "stream",
     "text": [
      "65\n"
     ]
    }
   ],
   "source": [
    "number= 55\n",
    "number= number + 10\n",
    "print(number)"
   ]
  },
  {
   "cell_type": "code",
   "execution_count": 17,
   "id": "54bdcf5e",
   "metadata": {},
   "outputs": [
    {
     "name": "stdout",
     "output_type": "stream",
     "text": [
      "75\n"
     ]
    }
   ],
   "source": [
    "number+=10\n",
    "print(number)"
   ]
  },
  {
   "cell_type": "code",
   "execution_count": 18,
   "id": "78a8018c",
   "metadata": {},
   "outputs": [
    {
     "name": "stdout",
     "output_type": "stream",
     "text": [
      "Hello Cuneyt\n"
     ]
    }
   ],
   "source": [
    "string1=  \"Hello \"\n",
    "string1+= \"Cuneyt\"\n",
    "print(string1)"
   ]
  },
  {
   "cell_type": "code",
   "execution_count": 19,
   "id": "3339d4cf",
   "metadata": {},
   "outputs": [
    {
     "name": "stdout",
     "output_type": "stream",
     "text": [
      "7\n"
     ]
    }
   ],
   "source": [
    "number = 10\n",
    "number-= 3\n",
    "print(number)"
   ]
  },
  {
   "cell_type": "code",
   "execution_count": 21,
   "id": "4fcced9b",
   "metadata": {},
   "outputs": [
    {
     "name": "stdout",
     "output_type": "stream",
     "text": [
      "robot word in paragraph\n"
     ]
    }
   ],
   "source": [
    "paragraph= \"\"\"The standout fear across all surveyed countries is to be somehow replaced by a robot. Nearly 80 per cent worry they could take away jobs from people, while 71 per cent believe robots may as well take up the role of humans in social interactions. Replacement fears are also reflected in the way people want robots to look.  An average of 60 per cent across all five countries are uncomfortable with androids and don't want robots to resemble people, or even have human traits like limbs or a face.\n",
    "\n",
    "Boiled down, it's a \"yes\" to Wall-E and a \"no\" to Terminator.\n",
    "\n",
    "Speaking about these fears, United Robotics CEO Thomas Linkenheil told Euronews Next that \"a lot can be linked to pop culture and science fiction, which has imagined the role of robots in society without understanding the technology or the impact that robots can have on daily work life.\"\"\"\n",
    "\n",
    "if \"robot\" in paragraph:\n",
    "    print(\"robot word in paragraph\")\n",
    "else:\n",
    "    print(\"robot word is NOT in paragraph\")"
   ]
  },
  {
   "cell_type": "code",
   "execution_count": null,
   "id": "47121a66",
   "metadata": {},
   "outputs": [],
   "source": []
  }
 ],
 "metadata": {
  "kernelspec": {
   "display_name": "Python 3 (ipykernel)",
   "language": "python",
   "name": "python3"
  },
  "language_info": {
   "codemirror_mode": {
    "name": "ipython",
    "version": 3
   },
   "file_extension": ".py",
   "mimetype": "text/x-python",
   "name": "python",
   "nbconvert_exporter": "python",
   "pygments_lexer": "ipython3",
   "version": "3.11.9"
  }
 },
 "nbformat": 4,
 "nbformat_minor": 5
}
