{
 "cells": [
  {
   "cell_type": "code",
   "execution_count": 1,
   "id": "964322bd",
   "metadata": {},
   "outputs": [
    {
     "name": "stdout",
     "output_type": "stream",
     "text": [
      "28\n"
     ]
    }
   ],
   "source": [
    "mydict= {\n",
    "    \n",
    "    \"Ahmet Uzun\":    28,\n",
    "    \"Mehmet Kısa\":   48,\n",
    "    \"Ali Veli\": 55\n",
    "}\n",
    "\n",
    "a= mydict[\"Ahmet Uzun\"]\n",
    "print(a)"
   ]
  },
  {
   "cell_type": "code",
   "execution_count": 2,
   "id": "0f81c982",
   "metadata": {},
   "outputs": [
    {
     "name": "stdout",
     "output_type": "stream",
     "text": [
      "{'Ahmet Uzun': 28, 'Mehmet Kısa': 48, 'Ali Veli': 55}\n"
     ]
    }
   ],
   "source": [
    "print(mydict)"
   ]
  },
  {
   "cell_type": "code",
   "execution_count": 5,
   "id": "9d5ed452",
   "metadata": {},
   "outputs": [],
   "source": [
    "excel_functions={\n",
    "\"CHAR\":\"DAMGA\",\n",
    "\"CLEAN\":\"TEMİZ\",\n",
    "\"CODE\":\"KOD\",\n",
    "\"CONCATENATE\":\"BİRLEŞTİR (ARALIKBİRLEŞTİR)\",\n",
    "\"DOLLAR\":\"LİRA\",\n",
    "\"EXACT\":\"ÖZDEŞ\",\n",
    "\"FIND\":\"BUL\",\n",
    "\"FIXED\":\"SAYIDÜZENLE\",\n",
    "\"LEFT\":\"SOLDAN\",\n",
    "\"RIGHT\":\"SAĞDAN\",\n",
    "\"LEN\":\"UZUNLUK\",\n",
    "\"LOWER\":\"KÜÇÜKHARF\",\n",
    "\"MID\":\"PARÇAAL\",\n",
    "\"PROPER\":\"YAZIM.DÜZENİ\",\n",
    "\"REPLACE\":\"DEĞİŞTİR\",\n",
    "\"REPT\":\"YİNELE\",\n",
    "\"SEARCH\":\"MBUL\",\n",
    "\"SUBSTITUTE\":\"YERİNEKOY\",\n",
    "\"T\":\"M\",\n",
    "\"TEXT\":\"METNEÇEVİR\",\n",
    "\"TRIM\":\"KIRP\",\n",
    "\"UPPER\":\"BÜYÜKHARF\",\n",
    "\"VALUE\":\"SAYIYAÇEVİR\",\n",
    "\"UNICODE\":\"UNICODE\",\n",
    "\"UNICODEKARAKTERİ\":\"UNICHAR\",\n",
    "\"BAHTMETİN\":\"BAHTTEXT\",\n",
    "\"TEXTJOIN\":\"METİNBİRLEŞTİR\"\n",
    "}\n",
    "\n"
   ]
  },
  {
   "cell_type": "code",
   "execution_count": 9,
   "id": "a8021249",
   "metadata": {},
   "outputs": [
    {
     "name": "stdout",
     "output_type": "stream",
     "text": [
      "METNEÇEVİR\n"
     ]
    }
   ],
   "source": [
    "print(excel_functions[\"TEXT\"]) # Search Key Word"
   ]
  },
  {
   "cell_type": "code",
   "execution_count": 11,
   "id": "730620e1",
   "metadata": {},
   "outputs": [],
   "source": [
    "USDTRY={\"1.01.2022\":13.44, \"2.01.2022\":13.44,\"3.01.2022\":13.09,\"4.01.2022\":13.37,\"5.01.2022\":13.49,\"6.01.2022\":13.73,\"7.01.2022\":13.87,\"8.01.2022\":13.87,\"9.01.2022\":13.87,\"10.01.2022\":13.87,\"11.01.2022\":13.84,\"12.01.2022\":13.80,\"13.01.2022\":13.60,\"14.01.2022\":13.53,\"15.01.2022\":13.53,\"16.01.2022\":13.53,\"17.01.2022\":13.44,\"18.01.2022\":13.58,\"19.01.2022\":13.55,\"20.01.2022\":13.37,\"21.01.2022\":13.40,\"22.01.2022\":13.40,\"23.01.2022\":13.40}\n",
    "\n"
   ]
  },
  {
   "cell_type": "code",
   "execution_count": 12,
   "id": "871ece4e",
   "metadata": {},
   "outputs": [
    {
     "name": "stdout",
     "output_type": "stream",
     "text": [
      "13.55\n"
     ]
    }
   ],
   "source": [
    "print(USDTRY[\"19.01.2022\"])"
   ]
  },
  {
   "cell_type": "code",
   "execution_count": 14,
   "id": "9ce51c4e",
   "metadata": {},
   "outputs": [
    {
     "name": "stdout",
     "output_type": "stream",
     "text": [
      "23\n"
     ]
    }
   ],
   "source": [
    "b= len(USDTRY)\n",
    "print(b)"
   ]
  },
  {
   "cell_type": "code",
   "execution_count": 15,
   "id": "f9826af7",
   "metadata": {},
   "outputs": [],
   "source": [
    "EN_TR_Words={\n",
    "\"Able\":\"Yapabilen\",\n",
    "\"Adjective\":\"Sıfat\",\n",
    "\"Africa\":\"Afrika\",\n",
    "\"After\":\"Sonra\",\n",
    "\"Agreed\":\"Anlaşıldı, Kararlaştırıldı\",\n",
    "\"Air\":\"Hava\",\n",
    "\"Am\":\"Gece 12 İle Gündüz 12 Arası Saat Dilimi\",\n",
    "\"America\":\"Amerika\",\n",
    "\"An\":\"Bir Tek\",\n",
    "\"Answer\":\"Cevap\",\n",
    "\"Any\":\"Herhangi\",\n",
    "\"Anything\":\"Hiçbir Şey\",\n",
    "\"Are\":\"Olmak Fiili\",\n",
    "\"Art\":\"Sanat\",\n",
    "\"As\":\"Iken\",\n",
    "\"At\":\"-de, -da\",\n",
    "\"Abandon\":\"Terk Etmek, Bırakmak\",\n",
    "\"Ability\":\"Hüner, Beceri, Kabiliyet\",\n",
    "\"About\":\"Hakkında, Takriben, Aşağı Yukarı, Üzere\",\n",
    "\"Above\":\"Üstünde, Üzerine\",\n",
    "\"Abroad\":\"Yurt Dışında, Yurtdışı\",\n",
    "\"Absence\":\"Bulunmama, Yokluk\",\n",
    "\"Absolute\":\"Mutlak, Salt, Kesin\",\n",
    "\"Absolutely\":\"Mutlaka, Kesinlikle\",\n",
    "\"Abuse\":\"Suistimal Etmek, Kötüye Kullanmak\"\n",
    "}\n",
    "\n",
    "\n"
   ]
  },
  {
   "cell_type": "code",
   "execution_count": 19,
   "id": "ed24dd66",
   "metadata": {},
   "outputs": [
    {
     "name": "stdout",
     "output_type": "stream",
     "text": [
      "Please Enter Word: Any\n",
      "'Any' Turkish equivalent of this word: 'Herhangi'\n"
     ]
    }
   ],
   "source": [
    "search_word=input(\"Please Enter Word: \")\n",
    "answer=\"'{}' Turkish equivalent of this word: '{}'\"\n",
    "if search_word in EN_TR_Words:\n",
    "    print(answer.format(search_word,EN_TR_Words[search_word]))\n",
    "else:\n",
    "    print(\"This word is not listed.\")"
   ]
  },
  {
   "cell_type": "code",
   "execution_count": 48,
   "id": "bf8b068b",
   "metadata": {},
   "outputs": [
    {
     "name": "stdout",
     "output_type": "stream",
     "text": [
      "{'İhsan Akkuş': ['Yönetim', 11950, '31.08.1977'], 'Sabahattin Bor': ['Muhasebe', 13610, '31.05.1979'], 'Nuray Ergin': ['Üretim', 10100, '26.06.1982'], 'Melin Akaya': ['Bilgi İşlem', 12160, '19.06.1980'], 'Yusuf Zeytin': ['Üretim', 12850, '28.03.1978'], 'Mustafa Karataş': ['Yönetim', 11170, '11.07.1980'], 'Reşat Hilmi Erdem': ['Bilgi İşlem', 10930, '9.05.1979'], 'Güliz Rana Tellioğlu': ['Muhasebe', 14950, '1.10.1978'], 'Emrullah Budak': ['Muhasebe', 14010, '27.02.1981'], 'Ahmet Yaşar': ['Bilgi İşlem', 11380, '30.04.1978'], 'Ayşe Yüksel': ['Finans', 10640, '3.02.1982'], 'Benan İlayda Tellioğlu': ['Bilgi İşlem', 13790, '22.05.1978'], 'Cihad Yıldız': ['Bilgi İşlem', 11370, '23.11.1979']}\n"
     ]
    }
   ],
   "source": [
    "employee_list= {\n",
    "    \n",
    "    \"İhsan Akkuş\":[\"Yönetim\",11950,\"31.08.1977\"],\n",
    "    \"Sabahattin Bor\":[\"Muhasebe\",13610,\"31.05.1979\"],\n",
    "    \"Nuray Ergin\":[\"Üretim\",10100,\"26.06.1982\"],\n",
    "    \"Melin Akaya\":[\"Bilgi İşlem\",12160,\"19.06.1980\"],\n",
    "    \"Yusuf Zeytin\":[\"Üretim\",12850,\"28.03.1978\"],\n",
    "    \"Mustafa Karataş\":[\"Yönetim\",11170,\"11.07.1980\"],\n",
    "    \"Reşat Hilmi Erdem\":[\"Bilgi İşlem\",10930,\"9.05.1979\"],\n",
    "    \"Güliz Rana Tellioğlu\":[\"Muhasebe\",14950,\"1.10.1978\"],\n",
    "    \"Emrullah Budak\":[\"Muhasebe\",14010,\"27.02.1981\"],\n",
    "    \"Ahmet Yaşar\":[\"Bilgi İşlem\",11380,\"30.04.1978\"],\n",
    "    \"Ayşe Yüksel\":[\"Finans\",10640,\"3.02.1982\"],\n",
    "    \"Benan İlayda Tellioğlu\":[\"Bilgi İşlem\",13790,\"22.05.1978\"],\n",
    "    \"Cihad Yıldız\":[\"Bilgi İşlem\",11370,\"23.11.1979\"]\n",
    "\n",
    "}\n",
    "print(employee_list)"
   ]
  },
  {
   "cell_type": "code",
   "execution_count": 49,
   "id": "b789f1ea",
   "metadata": {},
   "outputs": [
    {
     "name": "stdout",
     "output_type": "stream",
     "text": [
      "Please Enter Employee Name:Yusuf Zeytin\n",
      "Name: 'Yusuf Zeytin' / Department= 'Üretim' / Salary= '12850' TL and / BirthDate= '28.03.1978'\n"
     ]
    }
   ],
   "source": [
    "question=input(\"Please Enter Employee Name:\")\n",
    "if question in employee_list:\n",
    "    sonuc=\"Name: '{}' / Department= '{}' / Salary= '{}' TL and / BirthDate= '{}'\"\n",
    "    print(sonuc.format(question,employee_list[question][0], employee_list[question][1], employee_list[question][2]))\n",
    "    \n",
    "else:\n",
    "    print(\"There is no such employee.\")\n"
   ]
  },
  {
   "cell_type": "code",
   "execution_count": 50,
   "id": "fa90f7e6",
   "metadata": {},
   "outputs": [
    {
     "name": "stdout",
     "output_type": "stream",
     "text": [
      "{'İhsan Akkuş': ['Yönetim', 11950, '31.08.1977'], 'Sabahattin Bor': ['Muhasebe', 13610, '31.05.1979'], 'Nuray Ergin': ['Üretim', 10100, '26.06.1982'], 'Melin Akaya': ['Bilgi İşlem', 12160, '19.06.1980'], 'Yusuf Zeytin': ['Üretim', 12850, '28.03.1978'], 'Mustafa Karataş': ['Yönetim', 11170, '11.07.1980'], 'Reşat Hilmi Erdem': ['Bilgi İşlem', 10930, '9.05.1979'], 'Güliz Rana Tellioğlu': ['Muhasebe', 14950, '1.10.1978'], 'Emrullah Budak': ['Muhasebe', 14010, '27.02.1981'], 'Ahmet Yaşar': ['Bilgi İşlem', 11380, '30.04.1978'], 'Ayşe Yüksel': ['Finans', 10640, '3.02.1982'], 'Benan İlayda Tellioğlu': ['Bilgi İşlem', 13790, '22.05.1978'], 'Cihad Yıldız': ['Bilgi İşlem', 11370, '23.11.1979']}\n"
     ]
    }
   ],
   "source": [
    "print(employee_list)"
   ]
  },
  {
   "cell_type": "code",
   "execution_count": 51,
   "id": "16599764",
   "metadata": {},
   "outputs": [
    {
     "name": "stdout",
     "output_type": "stream",
     "text": [
      "{'İhsan Akkuş': 1, 'Sabahattin Bor': ['Muhasebe', 13610, '31.05.1979'], 'Nuray Ergin': ['Üretim', 10100, '26.06.1982'], 'Melin Akaya': ['Bilgi İşlem', 12160, '19.06.1980'], 'Yusuf Zeytin': ['Üretim', 12850, '28.03.1978'], 'Mustafa Karataş': ['Yönetim', 11170, '11.07.1980'], 'Reşat Hilmi Erdem': ['Bilgi İşlem', 10930, '9.05.1979'], 'Güliz Rana Tellioğlu': ['Muhasebe', 14950, '1.10.1978'], 'Emrullah Budak': ['Muhasebe', 14010, '27.02.1981'], 'Ahmet Yaşar': ['Bilgi İşlem', 11380, '30.04.1978'], 'Ayşe Yüksel': ['Finans', 10640, '3.02.1982'], 'Benan İlayda Tellioğlu': ['Bilgi İşlem', 13790, '22.05.1978'], 'Cihad Yıldız': ['Bilgi İşlem', 11370, '23.11.1979']}\n"
     ]
    }
   ],
   "source": [
    "employee_list [\"İhsan Akkuş\"]= 1\n",
    "print(employee_list)"
   ]
  },
  {
   "cell_type": "code",
   "execution_count": 52,
   "id": "f5847435",
   "metadata": {},
   "outputs": [],
   "source": [
    "employee_list [\"İhsan Akkuş\"]= [\"Başkan\",11950*2,\"31.08.1977\"] # Change İnfo"
   ]
  },
  {
   "cell_type": "code",
   "execution_count": 55,
   "id": "f9a40b09",
   "metadata": {},
   "outputs": [
    {
     "name": "stdout",
     "output_type": "stream",
     "text": [
      "{'İhsan Akkuş': ['Başkan', 23900, '31.08.1977'], 'Sabahattin Bor': ['Muhasebe', 13610, '31.05.1979'], 'Nuray Ergin': ['Üretim', 10100, '26.06.1982'], 'Melin Akaya': ['Bilgi İşlem', 12160, '19.06.1980'], 'Yusuf Zeytin': ['Üretim', 12850, '28.03.1978'], 'Mustafa Karataş': ['Yönetim', 11170, '11.07.1980'], 'Reşat Hilmi Erdem': ['Bilgi İşlem', 10930, '9.05.1979'], 'Güliz Rana Tellioğlu': ['Muhasebe', 14950, '1.10.1978'], 'Emrullah Budak': ['Muhasebe', 14010, '27.02.1981'], 'Ahmet Yaşar': ['Bilgi İşlem', 11380, '30.04.1978'], 'Ayşe Yüksel': ['Finans', 10640, '3.02.1982'], 'Benan İlayda Tellioğlu': ['Bilgi İşlem', 13790, '22.05.1978'], 'Cihad Yıldız': ['Bilgi İşlem', 11370, '23.11.1979']}\n"
     ]
    }
   ],
   "source": [
    "print(employee_list)"
   ]
  },
  {
   "cell_type": "code",
   "execution_count": 56,
   "id": "87718197",
   "metadata": {},
   "outputs": [
    {
     "name": "stdout",
     "output_type": "stream",
     "text": [
      "{'İhsan Akkuş': ['Başkan', 35000, '31.08.1977'], 'Sabahattin Bor': ['Muhasebe', 13610, '31.05.1979'], 'Nuray Ergin': ['Üretim', 10100, '26.06.1982'], 'Melin Akaya': ['Bilgi İşlem', 12160, '19.06.1980'], 'Yusuf Zeytin': ['Üretim', 12850, '28.03.1978'], 'Mustafa Karataş': ['Yönetim', 11170, '11.07.1980'], 'Reşat Hilmi Erdem': ['Bilgi İşlem', 10930, '9.05.1979'], 'Güliz Rana Tellioğlu': ['Muhasebe', 14950, '1.10.1978'], 'Emrullah Budak': ['Muhasebe', 14010, '27.02.1981'], 'Ahmet Yaşar': ['Bilgi İşlem', 11380, '30.04.1978'], 'Ayşe Yüksel': ['Finans', 10640, '3.02.1982'], 'Benan İlayda Tellioğlu': ['Bilgi İşlem', 13790, '22.05.1978'], 'Cihad Yıldız': ['Bilgi İşlem', 11370, '23.11.1979']}\n"
     ]
    }
   ],
   "source": [
    "employee_list [\"İhsan Akkuş\"] [1] = 35000\n",
    "print(employee_list)"
   ]
  },
  {
   "cell_type": "code",
   "execution_count": null,
   "id": "8d200fa5",
   "metadata": {},
   "outputs": [],
   "source": []
  },
  {
   "cell_type": "code",
   "execution_count": null,
   "id": "1e5ffb35",
   "metadata": {},
   "outputs": [],
   "source": []
  },
  {
   "cell_type": "code",
   "execution_count": null,
   "id": "55ef9272",
   "metadata": {},
   "outputs": [],
   "source": []
  },
  {
   "cell_type": "code",
   "execution_count": null,
   "id": "c4da901b",
   "metadata": {},
   "outputs": [],
   "source": []
  },
  {
   "cell_type": "code",
   "execution_count": null,
   "id": "6dec28d9",
   "metadata": {},
   "outputs": [],
   "source": []
  },
  {
   "cell_type": "code",
   "execution_count": null,
   "id": "9f7717c2",
   "metadata": {},
   "outputs": [],
   "source": []
  },
  {
   "cell_type": "code",
   "execution_count": null,
   "id": "cb01ab8e",
   "metadata": {},
   "outputs": [],
   "source": []
  },
  {
   "cell_type": "code",
   "execution_count": null,
   "id": "2faf4568",
   "metadata": {},
   "outputs": [],
   "source": []
  },
  {
   "cell_type": "code",
   "execution_count": null,
   "id": "df6c009e",
   "metadata": {},
   "outputs": [],
   "source": []
  },
  {
   "cell_type": "code",
   "execution_count": null,
   "id": "38979651",
   "metadata": {},
   "outputs": [],
   "source": []
  },
  {
   "cell_type": "code",
   "execution_count": null,
   "id": "1c1053fe",
   "metadata": {},
   "outputs": [],
   "source": []
  },
  {
   "cell_type": "code",
   "execution_count": null,
   "id": "319e0c36",
   "metadata": {},
   "outputs": [],
   "source": []
  },
  {
   "cell_type": "code",
   "execution_count": null,
   "id": "91669253",
   "metadata": {},
   "outputs": [],
   "source": []
  }
 ],
 "metadata": {
  "kernelspec": {
   "display_name": "Python 3 (ipykernel)",
   "language": "python",
   "name": "python3"
  },
  "language_info": {
   "codemirror_mode": {
    "name": "ipython",
    "version": 3
   },
   "file_extension": ".py",
   "mimetype": "text/x-python",
   "name": "python",
   "nbconvert_exporter": "python",
   "pygments_lexer": "ipython3",
   "version": "3.11.9"
  }
 },
 "nbformat": 4,
 "nbformat_minor": 5
}
