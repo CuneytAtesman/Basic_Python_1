{
 "cells": [
  {
   "cell_type": "code",
   "execution_count": 1,
   "id": "332c6cdb",
   "metadata": {},
   "outputs": [
    {
     "name": "stdout",
     "output_type": "stream",
     "text": [
      "[1, True, False, 'Hello', 5.74, 5, [10]]\n",
      "<class 'bool'>\n",
      "<class 'str'>\n",
      "<class 'list'>\n",
      "<class 'list'>\n"
     ]
    }
   ],
   "source": [
    "list=[\n",
    "    1,\n",
    "    True,\n",
    "    False,\n",
    "    \"Hello\",\n",
    "    5.74,\n",
    "    5,\n",
    "    [10]\n",
    "]\n",
    "print(list)\n",
    "print(type(list[1]))\n",
    "print(type(list[3]))\n",
    "print(type(list[1:5]))\n",
    "print(type(list[-1]))\n"
   ]
  },
  {
   "cell_type": "code",
   "execution_count": 2,
   "id": "81740c7c",
   "metadata": {},
   "outputs": [
    {
     "name": "stdout",
     "output_type": "stream",
     "text": [
      "1\n",
      "True\n",
      "False\n",
      "Hello\n",
      "5.74\n",
      "5\n",
      "[10]\n"
     ]
    }
   ],
   "source": [
    "list=[\n",
    "    1,\n",
    "    True,\n",
    "    False,\n",
    "    \"Hello\",\n",
    "    5.74,\n",
    "    5,\n",
    "    [10]\n",
    "]\n",
    "print(*list, sep=\"\\n\")"
   ]
  },
  {
   "cell_type": "code",
   "execution_count": 3,
   "id": "5328f9df",
   "metadata": {},
   "outputs": [
    {
     "name": "stdout",
     "output_type": "stream",
     "text": [
      "7\n"
     ]
    }
   ],
   "source": [
    "print(len(list))"
   ]
  },
  {
   "cell_type": "code",
   "execution_count": 4,
   "id": "5c01f826",
   "metadata": {},
   "outputs": [
    {
     "name": "stdout",
     "output_type": "stream",
     "text": [
      "[1, True, False, 'Hello', 5.74, 5, [10]]\n"
     ]
    }
   ],
   "source": [
    "print([\n",
    "    1,\n",
    "    True,\n",
    "    False,\n",
    "    \"Hello\",\n",
    "    5.74,\n",
    "    5,\n",
    "    [10]\n",
    "])"
   ]
  },
  {
   "cell_type": "markdown",
   "id": "0e0735d2",
   "metadata": {},
   "source": [
    "## List in List"
   ]
  },
  {
   "cell_type": "code",
   "execution_count": 5,
   "id": "90ef9a85",
   "metadata": {},
   "outputs": [
    {
     "name": "stdout",
     "output_type": "stream",
     "text": [
      "[[1, 2, 3], [4, 5, 6], [7, 8, 9, 10], ['a', 'b']]\n"
     ]
    }
   ],
   "source": [
    "long_list=[\n",
    "    [1,2,3],\n",
    "    [4,5,6],\n",
    "    [7,8,9,10],\n",
    "    [\"a\", \"b\"]\n",
    "]\n",
    "print(long_list)"
   ]
  },
  {
   "cell_type": "code",
   "execution_count": 6,
   "id": "b0e797c5",
   "metadata": {},
   "outputs": [
    {
     "name": "stdout",
     "output_type": "stream",
     "text": [
      "[1, 2, 3]\n",
      "[4, 5, 6]\n",
      "[7, 8, 9, 10]\n",
      "['a', 'b']\n"
     ]
    }
   ],
   "source": [
    "print(*long_list, sep=\"\\n\")"
   ]
  },
  {
   "cell_type": "code",
   "execution_count": 7,
   "id": "7b4e12e4",
   "metadata": {},
   "outputs": [
    {
     "name": "stdout",
     "output_type": "stream",
     "text": [
      "[1, 2, 3]\n"
     ]
    }
   ],
   "source": [
    "print(long_list[0])"
   ]
  },
  {
   "cell_type": "code",
   "execution_count": 8,
   "id": "88441ba9",
   "metadata": {},
   "outputs": [
    {
     "name": "stdout",
     "output_type": "stream",
     "text": [
      "[[1, 2, 3], [4, 5, 6], [7, 8, 9, 10]]\n"
     ]
    }
   ],
   "source": [
    "print(long_list[0:3])"
   ]
  },
  {
   "cell_type": "code",
   "execution_count": 9,
   "id": "9a9e8868",
   "metadata": {},
   "outputs": [
    {
     "name": "stdout",
     "output_type": "stream",
     "text": [
      "a\n"
     ]
    }
   ],
   "source": [
    "print(long_list[-1][0])"
   ]
  },
  {
   "cell_type": "code",
   "execution_count": 10,
   "id": "7dcdf47f",
   "metadata": {},
   "outputs": [
    {
     "name": "stdout",
     "output_type": "stream",
     "text": [
      "[[1, 2, 3], [4, 5, 6], [7, 8, 9, 10], ['a', 'b'], 'New Product']\n"
     ]
    }
   ],
   "source": [
    "long_list.append(\"New Product\") # append() add list \n",
    "print(long_list)"
   ]
  },
  {
   "cell_type": "code",
   "execution_count": 11,
   "id": "d69956e0",
   "metadata": {},
   "outputs": [
    {
     "name": "stdout",
     "output_type": "stream",
     "text": [
      "[[1, 2, 3], [4, 5, 6], [7, 8, 9, 10], ['a', 'b'], 'New Product', 'New Product 4']\n"
     ]
    }
   ],
   "source": [
    "long_list= long_list + [\"New Product 4\"] # NO append() add list end \n",
    "print(long_list)"
   ]
  },
  {
   "cell_type": "code",
   "execution_count": 12,
   "id": "27456b2c",
   "metadata": {},
   "outputs": [
    {
     "name": "stdout",
     "output_type": "stream",
     "text": [
      "[[1, 2, 3], [4, 5, 6], [7, 8, 9, 10], ['a', 'b'], 'New Product', 'New Product 4', 'New Product 5', 5555555]\n"
     ]
    }
   ],
   "source": [
    "long_list= long_list + [\"New Product 5\", 5555555] # NO append() add list end\n",
    "print(long_list)"
   ]
  },
  {
   "cell_type": "code",
   "execution_count": 13,
   "id": "386c47a5",
   "metadata": {},
   "outputs": [
    {
     "name": "stdout",
     "output_type": "stream",
     "text": [
      "['New Product 1', 777777, [1, 2, 3], [4, 5, 6], [7, 8, 9, 10], ['a', 'b'], 'New Product', 'New Product 4', 'New Product 5', 5555555]\n"
     ]
    }
   ],
   "source": [
    "long_list= [\"New Product 1\", 777777]+long_list  # NO append() add list head\n",
    "print(long_list)"
   ]
  },
  {
   "cell_type": "code",
   "execution_count": 14,
   "id": "a46ecd9a",
   "metadata": {},
   "outputs": [
    {
     "name": "stdout",
     "output_type": "stream",
     "text": [
      "['New Product 1', 777777, 'London', [1, 2, 3], [4, 5, 6], [7, 8, 9, 10], ['a', 'b'], 'New Product', 'New Product 4', 'New Product 5', 5555555]\n"
     ]
    }
   ],
   "source": [
    "long_list.insert(2, \"London\") # Add 2. index\n",
    "print(long_list)"
   ]
  },
  {
   "cell_type": "code",
   "execution_count": 15,
   "id": "8ec74c02",
   "metadata": {},
   "outputs": [
    {
     "name": "stdout",
     "output_type": "stream",
     "text": [
      "New Product 1\n",
      "777777\n",
      "London\n",
      "[1, 2, 3]\n",
      "[4, 5, 6]\n",
      "[7, 8, 9, 10]\n",
      "['a', 'b']\n",
      "New Product\n",
      "New Product 4\n",
      "New Product 5\n",
      "5555555\n"
     ]
    }
   ],
   "source": [
    "print(*long_list, sep= \"\\n\")"
   ]
  },
  {
   "cell_type": "code",
   "execution_count": 16,
   "id": "bb4501ee",
   "metadata": {},
   "outputs": [
    {
     "name": "stdout",
     "output_type": "stream",
     "text": [
      "['New Product 1', 777777, 'London', 'Paris', [4, 5, 6], [7, 8, 9, 10], ['a', 'b'], 'New Product', 'New Product 4', 'New Product 5', 5555555]\n"
     ]
    }
   ],
   "source": [
    "long_list[3]=\"Paris\"\n",
    "print(long_list)"
   ]
  },
  {
   "cell_type": "code",
   "execution_count": 17,
   "id": "c376ddec",
   "metadata": {},
   "outputs": [
    {
     "name": "stdout",
     "output_type": "stream",
     "text": [
      "['New Product 1', 777777, 'London', 'Paris', ['Hello', 5, 6], [7, 8, 9, 10], ['a', 'b'], 'New Product', 'New Product 4', 'New Product 5', 5555555]\n"
     ]
    }
   ],
   "source": [
    "long_list[4][0]= \"Hello\"\n",
    "print(long_list)"
   ]
  },
  {
   "cell_type": "code",
   "execution_count": 18,
   "id": "7c74cc96",
   "metadata": {},
   "outputs": [
    {
     "name": "stdout",
     "output_type": "stream",
     "text": [
      "['a', 'b', 'c', 'Paris', ['Hello', 5, 6], [7, 8, 9, 10], ['a', 'b'], 'New Product', 'New Product 4', 'New Product 5', 5555555]\n"
     ]
    }
   ],
   "source": [
    "long_list[0:3]= \"a\", \"b\", \"c\"\n",
    "print(long_list)"
   ]
  },
  {
   "cell_type": "code",
   "execution_count": 19,
   "id": "f7da4751",
   "metadata": {},
   "outputs": [
    {
     "name": "stdout",
     "output_type": "stream",
     "text": [
      "a\n",
      "b\n",
      "c\n",
      "Paris\n",
      "['Hello', 5, 6]\n",
      "[7, 8, 9, 10]\n",
      "['a', 'b']\n",
      "New Product\n",
      "New Product 4\n",
      "New Product 5\n",
      "(1, 2, 3, 4, 5)\n"
     ]
    }
   ],
   "source": [
    "long_list[-1]=1,2,3,4,5\n",
    "print(*long_list, sep=\"\\n\")"
   ]
  },
  {
   "cell_type": "markdown",
   "id": "05588447",
   "metadata": {},
   "source": [
    "## Delete from list"
   ]
  },
  {
   "cell_type": "code",
   "execution_count": 20,
   "id": "2fef018f",
   "metadata": {},
   "outputs": [
    {
     "name": "stdout",
     "output_type": "stream",
     "text": [
      "b\n",
      "c\n",
      "Paris\n",
      "['Hello', 5, 6]\n",
      "[7, 8, 9, 10]\n",
      "['a', 'b']\n",
      "New Product\n",
      "New Product 4\n",
      "New Product 5\n",
      "(1, 2, 3, 4, 5)\n"
     ]
    }
   ],
   "source": [
    "del long_list[0]\n",
    "print(*long_list, sep=\"\\n\")"
   ]
  },
  {
   "cell_type": "code",
   "execution_count": 21,
   "id": "1673a253",
   "metadata": {},
   "outputs": [
    {
     "name": "stdout",
     "output_type": "stream",
     "text": [
      "['b', 'c', 'Paris', ['Hello', 5, 6], [7, 8, 9, 10], ['a', 'b'], 'New Product', 'New Product 4', 'New Product 5']\n"
     ]
    }
   ],
   "source": [
    "long_list.pop()  # delete -1\n",
    "print(long_list)"
   ]
  },
  {
   "cell_type": "code",
   "execution_count": 22,
   "id": "8588f784",
   "metadata": {},
   "outputs": [
    {
     "name": "stdout",
     "output_type": "stream",
     "text": [
      "['c', 'Paris', ['Hello', 5, 6], [7, 8, 9, 10], ['a', 'b'], 'New Product', 'New Product 4', 'New Product 5']\n"
     ]
    }
   ],
   "source": [
    "long_list.pop(0)  # delete 0\n",
    "print(long_list)"
   ]
  },
  {
   "cell_type": "code",
   "execution_count": 23,
   "id": "06168557",
   "metadata": {},
   "outputs": [
    {
     "name": "stdout",
     "output_type": "stream",
     "text": [
      "['c', 'Paris', [7, 8, 9, 10], ['a', 'b'], 'New Product', 'New Product 4', 'New Product 5']\n"
     ]
    }
   ],
   "source": [
    "long_list.remove(['Hello', 5, 6])  # remove list\n",
    "print(long_list)"
   ]
  },
  {
   "cell_type": "code",
   "execution_count": 1,
   "id": "b55e6f63",
   "metadata": {},
   "outputs": [
    {
     "name": "stdout",
     "output_type": "stream",
     "text": [
      "[[1, 2, 3], 'D', [4, 5, 6], [7, 8, 9, 10], ['a', 'b']]\n"
     ]
    }
   ],
   "source": [
    "long_list=[\n",
    "    [1,2,3],\n",
    "    [4,5,6],\n",
    "    [7,8,9,10],\n",
    "    [\"a\", \"b\"]\n",
    "]\n",
    "long_list= long_list[:1]+[\"D\"]+ long_list[1:]\n",
    "print(long_list)"
   ]
  },
  {
   "cell_type": "code",
   "execution_count": null,
   "id": "59acdd6d",
   "metadata": {},
   "outputs": [],
   "source": []
  }
 ],
 "metadata": {
  "kernelspec": {
   "display_name": "Python 3 (ipykernel)",
   "language": "python",
   "name": "python3"
  },
  "language_info": {
   "codemirror_mode": {
    "name": "ipython",
    "version": 3
   },
   "file_extension": ".py",
   "mimetype": "text/x-python",
   "name": "python",
   "nbconvert_exporter": "python",
   "pygments_lexer": "ipython3",
   "version": "3.11.9"
  }
 },
 "nbformat": 4,
 "nbformat_minor": 5
}
