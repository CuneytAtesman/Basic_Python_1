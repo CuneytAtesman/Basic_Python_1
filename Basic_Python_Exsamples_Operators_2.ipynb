{
 "cells": [
  {
   "cell_type": "markdown",
   "id": "881107d0",
   "metadata": {},
   "source": [
    "## Operators + - * / ** // %"
   ]
  },
  {
   "cell_type": "code",
   "execution_count": 1,
   "id": "9ebfe983",
   "metadata": {},
   "outputs": [
    {
     "name": "stdout",
     "output_type": "stream",
     "text": [
      "World\n",
      "World\n",
      "World\n",
      "World\n",
      "World\n",
      "World\n",
      "World\n",
      "World\n",
      "World\n",
      "World\n",
      "\n"
     ]
    }
   ],
   "source": [
    "print(\"World\\n\" * 10)"
   ]
  },
  {
   "cell_type": "code",
   "execution_count": 2,
   "id": "0f972344",
   "metadata": {},
   "outputs": [
    {
     "name": "stdout",
     "output_type": "stream",
     "text": [
      "5\n"
     ]
    }
   ],
   "source": [
    "word= \"World\"\n",
    "print(len(word))"
   ]
  },
  {
   "cell_type": "code",
   "execution_count": 9,
   "id": "166daaad",
   "metadata": {},
   "outputs": [
    {
     "name": "stdout",
     "output_type": "stream",
     "text": [
      "How *************************************\n",
      "Big is The ******************************\n",
      "World ***********************************\n",
      "************************************* How\n",
      "****************************** Big is The\n",
      "*********************************** World\n",
      "How -------------------------------------\n",
      "Big is The ------------------------------\n",
      "World -----------------------------------\n",
      "------------------------------------- How\n",
      "------------------------------ Big is The\n",
      "----------------------------------- World\n"
     ]
    }
   ],
   "source": [
    "a1= \"How\"\n",
    "a2= \"Big is The\"\n",
    "a3= \"World\"\n",
    "\n",
    "print(a1, \"*\"*(40- len(a1)))\n",
    "print(a2, \"*\"*(40- len(a2)))\n",
    "print(a3, \"*\"*(40- len(a3)))\n",
    "\n",
    "print(\"*\"*(40- len(a1)), a1)\n",
    "print(\"*\"*(40- len(a2)), a2)\n",
    "print(\"*\"*(40- len(a3)), a3)\n",
    "\n",
    "print(a1, \"-\"*(40- len(a1)))\n",
    "print(a2, \"-\"*(40- len(a2)))\n",
    "print(a3, \"-\"*(40- len(a3)))\n",
    "\n",
    "print(\"-\"*(40- len(a1)), a1)\n",
    "print(\"-\"*(40- len(a2)), a2)\n",
    "print(\"-\"*(40- len(a3)), a3)\n"
   ]
  },
  {
   "cell_type": "code",
   "execution_count": 12,
   "id": "cbf512a2",
   "metadata": {},
   "outputs": [
    {
     "name": "stdout",
     "output_type": "stream",
     "text": [
      "7.5\n",
      "7\n",
      "3\n"
     ]
    }
   ],
   "source": [
    "print(45/6)\n",
    "print(45//6)\n",
    "print(45%6)"
   ]
  },
  {
   "cell_type": "code",
   "execution_count": 15,
   "id": "b1f8ba5b",
   "metadata": {},
   "outputs": [
    {
     "name": "stdout",
     "output_type": "stream",
     "text": [
      "Please Enter Number: 45\n",
      "45 Single Number\n"
     ]
    }
   ],
   "source": [
    "number= int(input(\"Please Enter Number: \"))\n",
    "if number%2 == 0:\n",
    "    print(number, \"Even Number\")\n",
    "else:\n",
    "    print(number, \"Single Number\")"
   ]
  },
  {
   "cell_type": "code",
   "execution_count": 22,
   "id": "ef2a224b",
   "metadata": {},
   "outputs": [
    {
     "name": "stdout",
     "output_type": "stream",
     "text": [
      "Please Enter Number: 12\n",
      "12 This is NOT Prime Number 2 Divide by Number\n"
     ]
    }
   ],
   "source": [
    "number= int(input(\"Please Enter Number: \"))\n",
    "for i in range(2, number):\n",
    "    if number%i == 0:\n",
    "        print(number, \"This is NOT Prime Number\", i, \"Divide by Number\")\n",
    "        break\n",
    "else:\n",
    "    print(number, \"This is Prime Number\")\n",
    "        "
   ]
  },
  {
   "cell_type": "code",
   "execution_count": 26,
   "id": "8b7c1974",
   "metadata": {},
   "outputs": [
    {
     "name": "stdout",
     "output_type": "stream",
     "text": [
      "235648.55\n",
      "235649.0\n",
      "<class 'float'>\n"
     ]
    }
   ],
   "source": [
    "number= 235648.54689\n",
    "number= round(number, 2)\n",
    "print(number)\n",
    "print(round(number, 0))\n",
    "print(type(number))"
   ]
  },
  {
   "cell_type": "code",
   "execution_count": 27,
   "id": "59adf214",
   "metadata": {},
   "outputs": [
    {
     "name": "stdout",
     "output_type": "stream",
     "text": [
      "64\n"
     ]
    }
   ],
   "source": [
    "print(4**3)"
   ]
  },
  {
   "cell_type": "code",
   "execution_count": 29,
   "id": "e1156168",
   "metadata": {},
   "outputs": [
    {
     "name": "stdout",
     "output_type": "stream",
     "text": [
      "9834496\n",
      "9834496\n"
     ]
    }
   ],
   "source": [
    "print(pow(56, 4))\n",
    "print(56**4)"
   ]
  },
  {
   "cell_type": "code",
   "execution_count": 34,
   "id": "29067736",
   "metadata": {},
   "outputs": [
    {
     "name": "stdout",
     "output_type": "stream",
     "text": [
      "5.0\n",
      "3.0\n",
      "1.8768954872276749\n"
     ]
    }
   ],
   "source": [
    "print(25**0.5)\n",
    "print(81**(1/4))\n",
    "print(154**(1/8))"
   ]
  },
  {
   "cell_type": "code",
   "execution_count": null,
   "id": "4dd1d054",
   "metadata": {},
   "outputs": [],
   "source": []
  },
  {
   "cell_type": "code",
   "execution_count": null,
   "id": "e8c6d9e8",
   "metadata": {},
   "outputs": [],
   "source": []
  },
  {
   "cell_type": "code",
   "execution_count": null,
   "id": "280ac334",
   "metadata": {},
   "outputs": [],
   "source": []
  },
  {
   "cell_type": "code",
   "execution_count": null,
   "id": "442070b4",
   "metadata": {},
   "outputs": [],
   "source": []
  },
  {
   "cell_type": "code",
   "execution_count": null,
   "id": "d4f1db04",
   "metadata": {},
   "outputs": [],
   "source": []
  },
  {
   "cell_type": "code",
   "execution_count": null,
   "id": "5bdf316d",
   "metadata": {},
   "outputs": [],
   "source": []
  },
  {
   "cell_type": "code",
   "execution_count": null,
   "id": "7e24f0fa",
   "metadata": {},
   "outputs": [],
   "source": []
  }
 ],
 "metadata": {
  "kernelspec": {
   "display_name": "Python 3 (ipykernel)",
   "language": "python",
   "name": "python3"
  },
  "language_info": {
   "codemirror_mode": {
    "name": "ipython",
    "version": 3
   },
   "file_extension": ".py",
   "mimetype": "text/x-python",
   "name": "python",
   "nbconvert_exporter": "python",
   "pygments_lexer": "ipython3",
   "version": "3.11.9"
  }
 },
 "nbformat": 4,
 "nbformat_minor": 5
}
