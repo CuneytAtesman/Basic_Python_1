{
 "cells": [
  {
   "cell_type": "code",
   "execution_count": 1,
   "id": "06c61e7e",
   "metadata": {},
   "outputs": [
    {
     "name": "stdout",
     "output_type": "stream",
     "text": [
      "{'İhsan Akkuş': ['Yönetim', 11950, '31.08.1977'], 'Sabahattin Bor': ['Muhasebe', 13610, '31.05.1979'], 'Nuray Ergin': ['Üretim', 10100, '26.06.1982'], 'Melin Akaya': ['Bilgi İşlem', 12160, '19.06.1980'], 'Yusuf Zeytin': ['Üretim', 12850, '28.03.1978'], 'Mustafa Karataş': ['Yönetim', 11170, '11.07.1980'], 'Reşat Hilmi Erdem': ['Bilgi İşlem', 10930, '9.05.1979'], 'Güliz Rana Tellioğlu': ['Muhasebe', 14950, '1.10.1978'], 'Emrullah Budak': ['Muhasebe', 14010, '27.02.1981'], 'Ahmet Yaşar': ['Bilgi İşlem', 11380, '30.04.1978'], 'Benan İlayda Tellioğlu': ['Bilgi İşlem', 13790, '22.05.1978'], 'Cihad Yıldız': ['Bilgi İşlem', 11370, '23.11.1979']}\n"
     ]
    }
   ],
   "source": [
    "employee_list= {\n",
    "    \n",
    "    \"İhsan Akkuş\":[\"Yönetim\",11950,\"31.08.1977\"],\n",
    "    \"Sabahattin Bor\":[\"Muhasebe\",13610,\"31.05.1979\"],\n",
    "    \"Nuray Ergin\":[\"Üretim\",10100,\"26.06.1982\"],\n",
    "    \"Melin Akaya\":[\"Bilgi İşlem\",12160,\"19.06.1980\"],\n",
    "    \"Yusuf Zeytin\":[\"Üretim\",12850,\"28.03.1978\"],\n",
    "    \"Mustafa Karataş\":[\"Yönetim\",11170,\"11.07.1980\"],\n",
    "    \"Reşat Hilmi Erdem\":[\"Bilgi İşlem\",10930,\"9.05.1979\"],\n",
    "    \"Güliz Rana Tellioğlu\":[\"Muhasebe\",14950,\"1.10.1978\"],\n",
    "    \"Emrullah Budak\":[\"Muhasebe\",14010,\"27.02.1981\"],\n",
    "    \"Ahmet Yaşar\":[\"Bilgi İşlem\",11380,\"30.04.1978\"],\n",
    "    \"Benan İlayda Tellioğlu\":[\"Bilgi İşlem\",13790,\"22.05.1978\"],\n",
    "    \"Cihad Yıldız\":[\"Bilgi İşlem\",11370,\"23.11.1979\"]\n",
    "\n",
    "}\n",
    "print(employee_list)"
   ]
  },
  {
   "cell_type": "code",
   "execution_count": 2,
   "id": "ef22b320",
   "metadata": {},
   "outputs": [
    {
     "name": "stdout",
     "output_type": "stream",
     "text": [
      "{'İhsan Akkuş': ['Yönetim', 35000, '31.08.1977'], 'Sabahattin Bor': ['Muhasebe', 13610, '31.05.1979'], 'Nuray Ergin': ['Üretim', 10100, '26.06.1982'], 'Melin Akaya': ['Bilgi İşlem', 12160, '19.06.1980'], 'Yusuf Zeytin': ['Üretim', 12850, '28.03.1978'], 'Mustafa Karataş': ['Yönetim', 11170, '11.07.1980'], 'Reşat Hilmi Erdem': ['Bilgi İşlem', 10930, '9.05.1979'], 'Güliz Rana Tellioğlu': ['Muhasebe', 14950, '1.10.1978'], 'Emrullah Budak': ['Muhasebe', 14010, '27.02.1981'], 'Ahmet Yaşar': ['Bilgi İşlem', 11380, '30.04.1978'], 'Benan İlayda Tellioğlu': ['Bilgi İşlem', 13790, '22.05.1978'], 'Cihad Yıldız': ['Bilgi İşlem', 11370, '23.11.1979']}\n"
     ]
    }
   ],
   "source": [
    "employee_list [\"İhsan Akkuş\"] [1] = 35000\n",
    "print(employee_list)"
   ]
  },
  {
   "cell_type": "code",
   "execution_count": 3,
   "id": "9991311a",
   "metadata": {},
   "outputs": [
    {
     "name": "stdout",
     "output_type": "stream",
     "text": [
      "{'Department': 'Yönetim', 'Salary': 35000, 'BirthDay': '31.08.1977'}\n"
     ]
    }
   ],
   "source": [
    "employee_list= {\n",
    "    \n",
    "    \"İhsan Akkuş\": {\"Department\": \"Yönetim\", \"Salary\": 35000, \"BirthDay\": \"31.08.1977\" }\n",
    "}\n",
    "\n",
    "print(employee_list[\"İhsan Akkuş\"])"
   ]
  },
  {
   "cell_type": "code",
   "execution_count": 4,
   "id": "a05251ae",
   "metadata": {},
   "outputs": [
    {
     "name": "stdout",
     "output_type": "stream",
     "text": [
      "Yönetim\n"
     ]
    }
   ],
   "source": [
    "print(employee_list[\"İhsan Akkuş\"][\"Department\"])"
   ]
  },
  {
   "cell_type": "code",
   "execution_count": 5,
   "id": "2b505822",
   "metadata": {},
   "outputs": [
    {
     "name": "stdout",
     "output_type": "stream",
     "text": [
      "{'İhsan Akkuş': {'Department': 'Yönetim', 'Salary': 11950, 'Birth Date': '31.08.1977'}, 'Sabahattin Bor': {'Department': 'Muhasebe', 'Salary': 13610, 'Birth Date': '31.05.1979'}, 'Nuray Ergin': {'Department': 'Üretim', 'Salary': 10100, 'Birth Date': '26.06.1982'}, 'Melin Akaya': {'Department': 'Bilgi İşlem', 'Salary': 12160, 'Birth Date': '19.06.1980'}, 'Yusuf Zeytin': {'Department': 'Üretim', 'Salary': 12850, 'Birth Date': '28.03.1978'}, 'Mustafa Karataş': {'Department': 'Yönetim', 'Salary': 11170, 'Birth Date': '11.07.1980'}, 'Reşat Hilmi Erdem': {'Department': 'Bilgi İşlem', 'Salary': 10930, 'Birth Date': '9.05.1979'}, 'Güliz Rana Tellioğlu': {'Department': 'Muhasebe', 'Salary': 14950, 'Birth Date': '1.10.1978'}, 'Emrullah Budak': {'Department': 'Muhasebe', 'Salary': 14010, 'Birth Date': '27.02.1981'}, 'Ahmet Yaşar': {'Department': 'Bilgi İşlem', 'Salary': 11380, 'Birth Date': '30.04.1978'}, 'Benan İlayda Tellioğlu': {'Department': 'Bilgi İşlem', 'Salary': 13790, 'Birth Date': '22.05.1978'}, 'Cihad Yıldız': {'Department': 'Bilgi İşlem', 'Salary': 11370, 'Birth Date': '23.11.1979'}, 'Cihan Yatçi': {'Department': 'Yönetim', 'Salary': 14890, 'Birth Date': '25.01.1981'}, 'Hasret Tanrıverdi': {'Department': 'Bilgi İşlem', 'Salary': 13650, 'Birth Date': '14.04.1980'}, 'Gökhan Akarı': {'Department': 'Muhasebe', 'Salary': 13560, 'Birth Date': '12.03.1980'}, 'Ecem Efe': {'Department': 'İnsan Kaynakları', 'Salary': 11980, 'Birth Date': '15.12.1979'}}\n"
     ]
    }
   ],
   "source": [
    "employees={\n",
    "\"İhsan Akkuş\":              {\"Department\":\"Yönetim\",            \"Salary\":11950, \"Birth Date\":\"31.08.1977\"},\n",
    "\"Sabahattin Bor\":           {\"Department\":\"Muhasebe\",           \"Salary\":13610, \"Birth Date\":\"31.05.1979\"},\n",
    "\"Nuray Ergin\":              {\"Department\":\"Üretim\",             \"Salary\":10100, \"Birth Date\":\"26.06.1982\"},\n",
    "\"Melin Akaya\":              {\"Department\":\"Bilgi İşlem\",        \"Salary\":12160, \"Birth Date\":\"19.06.1980\"},\n",
    "\"Yusuf Zeytin\":             {\"Department\":\"Üretim\",             \"Salary\":12850, \"Birth Date\":\"28.03.1978\"},\n",
    "\"Mustafa Karataş\":          {\"Department\":\"Yönetim\",            \"Salary\":11170, \"Birth Date\":\"11.07.1980\"},\n",
    "\"Reşat Hilmi Erdem\":        {\"Department\":\"Bilgi İşlem\",        \"Salary\":10930, \"Birth Date\":\"9.05.1979\"},\n",
    "\"Güliz Rana Tellioğlu\":     {\"Department\":\"Muhasebe\",           \"Salary\":14950, \"Birth Date\":\"1.10.1978\"},\n",
    "\"Emrullah Budak\":           {\"Department\":\"Muhasebe\",           \"Salary\":14010, \"Birth Date\":\"27.02.1981\"},\n",
    "\"Ahmet Yaşar\":              {\"Department\":\"Bilgi İşlem\",        \"Salary\":11380, \"Birth Date\":\"30.04.1978\"},\n",
    "\"Benan İlayda Tellioğlu\":   {\"Department\":\"Bilgi İşlem\",        \"Salary\":13790, \"Birth Date\":\"22.05.1978\"},\n",
    "\"Cihad Yıldız\":             {\"Department\":\"Bilgi İşlem\",        \"Salary\":11370, \"Birth Date\":\"23.11.1979\"},\n",
    "\"Cihan Yatçi\":              {\"Department\":\"Yönetim\",            \"Salary\":14890, \"Birth Date\":\"25.01.1981\"},\n",
    "\"Hasret Tanrıverdi\":        {\"Department\":\"Bilgi İşlem\",        \"Salary\":13650, \"Birth Date\":\"14.04.1980\"},\n",
    "\"Gökhan Akarı\":             {\"Department\":\"Muhasebe\",           \"Salary\":13560, \"Birth Date\":\"12.03.1980\"},\n",
    "\"Ecem Efe\":                 {\"Department\":\"İnsan Kaynakları\",   \"Salary\":11980, \"Birth Date\":\"15.12.1979\"}\n",
    "}\n",
    "print(employees)\n"
   ]
  },
  {
   "cell_type": "code",
   "execution_count": 6,
   "id": "d6d78dfe",
   "metadata": {},
   "outputs": [
    {
     "name": "stdout",
     "output_type": "stream",
     "text": [
      "Please Enter Employee Name: Ecem Efe\n",
      "'Ecem Efe' Employee Department 'İnsan Kaynakları', Salary '11980' TL ve Date of Birth '15.12.1979'\n"
     ]
    }
   ],
   "source": [
    "soru=input(\"Please Enter Employee Name: \")\n",
    "if soru in employees:\n",
    "    sonuc=\"'{}' Employee Department '{}', Salary '{}' TL ve Date of Birth '{}'\"\n",
    "    print(sonuc.format(soru,employees[soru][\"Department\"],employees[soru][\"Salary\"],employees[soru][\"Birth Date\"]))\n",
    "else:\n",
    "    print(\"There is no such employee.\")"
   ]
  },
  {
   "cell_type": "code",
   "execution_count": 7,
   "id": "bc711643",
   "metadata": {},
   "outputs": [
    {
     "name": "stdout",
     "output_type": "stream",
     "text": [
      "Please Enter Employee Name: Ecem Efe\n",
      "Ecem Efe type which data you want for the person named: Department/ Salary/ BirthDate?Department\n",
      "Ecem Efe This Person Department: İnsan Kaynakları\n"
     ]
    }
   ],
   "source": [
    "soru=input(\"Please Enter Employee Name: \")\n",
    "if soru in employees:\n",
    "    soru2=input(soru + \" type which data you want for the person named: Department/ Salary/ BirthDate?\")\n",
    "    sonuc=\"{} This Person \"+soru2+\": {}\"\n",
    "    print(sonuc.format(soru,employees[soru][soru2]))\n",
    "else:\n",
    "    print(\"There is no such employee.\")\n"
   ]
  },
  {
   "cell_type": "code",
   "execution_count": 11,
   "id": "06681a0e",
   "metadata": {},
   "outputs": [],
   "source": [
    "employees[\"Cuneyt Atesman\"]= {\"Department\":\"Üretim\", \"Salary\":10200, \"Birth Date\":\"26.06.1970\"}\n",
    "# Add employe"
   ]
  },
  {
   "cell_type": "code",
   "execution_count": 14,
   "id": "8ea89d07",
   "metadata": {},
   "outputs": [
    {
     "name": "stdout",
     "output_type": "stream",
     "text": [
      "{'İhsan Akkuş': {'Department': 'Yönetim', 'Salary': 11950, 'Birth Date': '31.08.1977'}, 'Sabahattin Bor': {'Department': 'Muhasebe', 'Salary': 13610, 'Birth Date': '31.05.1979'}, 'Nuray Ergin': {'Department': 'Üretim', 'Salary': 10100, 'Birth Date': '26.06.1982'}, 'Melin Akaya': {'Department': 'Bilgi İşlem', 'Salary': 12160, 'Birth Date': '19.06.1980'}, 'Yusuf Zeytin': {'Department': 'Üretim', 'Salary': 12850, 'Birth Date': '28.03.1978'}, 'Mustafa Karataş': {'Department': 'Yönetim', 'Salary': 11170, 'Birth Date': '11.07.1980'}, 'Reşat Hilmi Erdem': {'Department': 'Bilgi İşlem', 'Salary': 10930, 'Birth Date': '9.05.1979'}, 'Güliz Rana Tellioğlu': {'Department': 'Muhasebe', 'Salary': 14950, 'Birth Date': '1.10.1978'}, 'Emrullah Budak': {'Department': 'Muhasebe', 'Salary': 14010, 'Birth Date': '27.02.1981'}, 'Ahmet Yaşar': {'Department': 'Bilgi İşlem', 'Salary': 11380, 'Birth Date': '30.04.1978'}, 'Benan İlayda Tellioğlu': {'Department': 'Bilgi İşlem', 'Salary': 13790, 'Birth Date': '22.05.1978'}, 'Cihad Yıldız': {'Department': 'Bilgi İşlem', 'Salary': 11370, 'Birth Date': '23.11.1979'}, 'Cihan Yatçi': {'Department': 'Yönetim', 'Salary': 14890, 'Birth Date': '25.01.1981'}, 'Hasret Tanrıverdi': {'Department': 'Bilgi İşlem', 'Salary': 13650, 'Birth Date': '14.04.1980'}, 'Gökhan Akarı': {'Department': 'Muhasebe', 'Salary': 13560, 'Birth Date': '12.03.1980'}, 'Ecem Efe': {'Department': 'İnsan Kaynakları', 'Salary': 11980, 'Birth Date': '15.12.1979'}, 'Cuneyt Atesman': {'Department': 'Üretim', 'Salary': 10200, 'Birth Date': '26.06.1970'}}\n"
     ]
    }
   ],
   "source": [
    "print(employees)"
   ]
  },
  {
   "cell_type": "code",
   "execution_count": 16,
   "id": "f0f224e4",
   "metadata": {},
   "outputs": [],
   "source": [
    "employees[\"İhsan Akkuş\"][\"Department\"]= \"Muhasebe\""
   ]
  },
  {
   "cell_type": "code",
   "execution_count": 22,
   "id": "ae15bb8e",
   "metadata": {},
   "outputs": [
    {
     "name": "stdout",
     "output_type": "stream",
     "text": [
      "{'İhsan Akkuş': {'Department': 'Muhasebe', 'Salary': 11950, 'Birth Date': '31.08.1977'}, 'Sabahattin Bor': {'Department': 'Muhasebe', 'Salary': 13610, 'Birth Date': '31.05.1979'}, 'Nuray Ergin': {'Department': 'Üretim', 'Salary': 10100, 'Birth Date': '26.06.1982'}, 'Melin Akaya': {'Department': 'Bilgi İşlem', 'Salary': 12160, 'Birth Date': '19.06.1980'}, 'Yusuf Zeytin': {'Department': 'Üretim', 'Salary': 12850, 'Birth Date': '28.03.1978'}, 'Mustafa Karataş': {'Department': 'Yönetim', 'Salary': 11170, 'Birth Date': '11.07.1980'}, 'Reşat Hilmi Erdem': {'Department': 'Bilgi İşlem', 'Salary': 10930, 'Birth Date': '9.05.1979'}, 'Güliz Rana Tellioğlu': {'Department': 'Muhasebe', 'Salary': 14950, 'Birth Date': '1.10.1978'}, 'Emrullah Budak': {'Department': 'Muhasebe', 'Salary': 14010, 'Birth Date': '27.02.1981'}, 'Ahmet Yaşar': {'Department': 'Bilgi İşlem', 'Salary': 11380, 'Birth Date': '30.04.1978'}, 'Benan İlayda Tellioğlu': {'Department': 'Bilgi İşlem', 'Salary': 13790, 'Birth Date': '22.05.1978'}, 'Cihad Yıldız': {'Department': 'Bilgi İşlem', 'Salary': 11370, 'Birth Date': '23.11.1979'}, 'Cihan Yatçi': {'Department': 'Yönetim', 'Salary': 14890, 'Birth Date': '25.01.1981'}, 'Hasret Tanrıverdi': {'Department': 'Bilgi İşlem', 'Salary': 13650, 'Birth Date': '14.04.1980'}, 'Gökhan Akarı': {'Department': 'Muhasebe', 'Salary': 13560, 'Birth Date': '12.03.1980'}, 'Ecem Efe': {'Department': 'İnsan Kaynakları', 'Salary': 11980, 'Birth Date': '15.12.1979'}, 'Cuneyt Atesman': {'Department': 'Üretim', 'Salary': 10200, 'Birth Date': '26.06.1970'}}\n"
     ]
    }
   ],
   "source": [
    "print(employees)"
   ]
  },
  {
   "cell_type": "code",
   "execution_count": 25,
   "id": "55edf08f",
   "metadata": {},
   "outputs": [
    {
     "name": "stdout",
     "output_type": "stream",
     "text": [
      "Enter Your USD:56\n",
      "Please Enter Date:2.02.2022\n",
      "2.02.2022  Date Total Your Money 759.36 Turkish Lira\n"
     ]
    }
   ],
   "source": [
    "USDEUR={\n",
    "\"1.01.2022\":{\"USD\":13.44,\"EUR\":15.14},\n",
    "\"2.01.2022\":{\"USD\":13.44,\"EUR\":15.14},\n",
    "\"3.01.2022\":{\"USD\":13.09,\"EUR\":14.79},\n",
    "\"4.01.2022\":{\"USD\":13.37,\"EUR\":15.03},\n",
    "\"5.01.2022\":{\"USD\":13.49,\"EUR\":15.22},\n",
    "\"6.01.2022\":{\"USD\":13.73,\"EUR\":15.49},\n",
    "\"7.01.2022\":{\"USD\":13.87,\"EUR\":15.65},\n",
    "\"8.01.2022\":{\"USD\":13.87,\"EUR\":15.65},\n",
    "\"9.01.2022\":{\"USD\":13.87,\"EUR\":15.65},\n",
    "\"10.01.2022\":{\"USD\":13.87,\"EUR\":15.63},\n",
    "\"11.01.2022\":{\"USD\":13.84,\"EUR\":15.63},\n",
    "\"12.01.2022\":{\"USD\":13.80,\"EUR\":15.70},\n",
    "\"13.01.2022\":{\"USD\":13.60,\"EUR\":15.56},\n",
    "\"14.01.2022\":{\"USD\":13.53,\"EUR\":15.44},\n",
    "\"15.01.2022\":{\"USD\":13.53,\"EUR\":15.44},\n",
    "\"16.01.2022\":{\"USD\":13.53,\"EUR\":15.44},\n",
    "\"17.01.2022\":{\"USD\":13.44,\"EUR\":15.28},\n",
    "\"18.01.2022\":{\"USD\":13.58,\"EUR\":15.41},\n",
    "\"19.01.2022\":{\"USD\":13.55,\"EUR\":15.35},\n",
    "\"20.01.2022\":{\"USD\":13.37,\"EUR\":15.16},\n",
    "\"21.01.2022\":{\"USD\":13.40,\"EUR\":15.18},\n",
    "\"22.01.2022\":{\"USD\":13.40,\"EUR\":15.18},\n",
    "\"23.01.2022\":{\"USD\":13.40,\"EUR\":15.18},\n",
    "\"24.01.2022\":{\"USD\":13.41,\"EUR\":15.13},\n",
    "\"25.01.2022\":{\"USD\":13.52,\"EUR\":15.22},\n",
    "\"26.01.2022\":{\"USD\":13.55,\"EUR\":15.26},\n",
    "\"27.01.2022\":{\"USD\":13.61,\"EUR\":15.17},\n",
    "\"28.01.2022\":{\"USD\":13.57,\"EUR\":15.13},\n",
    "\"29.01.2022\":{\"USD\":13.57,\"EUR\":15.13},\n",
    "\"30.01.2022\":{\"USD\":13.57,\"EUR\":15.13},\n",
    "\"31.01.2022\":{\"USD\":13.40,\"EUR\":14.98},\n",
    "\"1.02.2022\":{\"USD\":13.38,\"EUR\":15.06},\n",
    "\"2.02.2022\":{\"USD\":13.56,\"EUR\":15.31},\n",
    "\"3.02.2022\":{\"USD\":13.54,\"EUR\":15.39},\n",
    "\"4.02.2022\":{\"USD\":13.53,\"EUR\":15.46},\n",
    "\"5.02.2022\":{\"USD\":13.53,\"EUR\":15.46},\n",
    "\"6.02.2022\":{\"USD\":13.53,\"EUR\":15.46},\n",
    "\"7.02.2022\":{\"USD\":13.56,\"EUR\":15.48},\n",
    "\"8.02.2022\":{\"USD\":13.63,\"EUR\":15.54}\n",
    "}\n",
    "money=float(input(\"Enter Your USD:\"))\n",
    "date_1=input(\"Please Enter Date:\")\n",
    "print(date_1, \" Date Total Your Money {} Turkish Lira\".format(money*USDEUR[date_1][\"USD\"]))\n"
   ]
  },
  {
   "cell_type": "code",
   "execution_count": null,
   "id": "2038e1a5",
   "metadata": {},
   "outputs": [],
   "source": []
  },
  {
   "cell_type": "code",
   "execution_count": null,
   "id": "1eb29205",
   "metadata": {},
   "outputs": [],
   "source": []
  },
  {
   "cell_type": "code",
   "execution_count": null,
   "id": "add850f0",
   "metadata": {},
   "outputs": [],
   "source": []
  },
  {
   "cell_type": "code",
   "execution_count": null,
   "id": "b4632b5e",
   "metadata": {},
   "outputs": [],
   "source": []
  },
  {
   "cell_type": "code",
   "execution_count": null,
   "id": "dcf53d0d",
   "metadata": {},
   "outputs": [],
   "source": []
  }
 ],
 "metadata": {
  "kernelspec": {
   "display_name": "Python 3 (ipykernel)",
   "language": "python",
   "name": "python3"
  },
  "language_info": {
   "codemirror_mode": {
    "name": "ipython",
    "version": 3
   },
   "file_extension": ".py",
   "mimetype": "text/x-python",
   "name": "python",
   "nbconvert_exporter": "python",
   "pygments_lexer": "ipython3",
   "version": "3.11.9"
  }
 },
 "nbformat": 4,
 "nbformat_minor": 5
}
