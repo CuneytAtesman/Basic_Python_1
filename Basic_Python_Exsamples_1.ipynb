{
 "cells": [
  {
   "cell_type": "markdown",
   "id": "199bc80c",
   "metadata": {},
   "source": [
    "## input and Control (if & elif & else)"
   ]
  },
  {
   "cell_type": "code",
   "execution_count": 9,
   "id": "09c4b66f",
   "metadata": {},
   "outputs": [
    {
     "name": "stdout",
     "output_type": "stream",
     "text": [
      "Email Adress: theatesmans@gmail.com\n",
      "E-Mail is Valid.\n"
     ]
    }
   ],
   "source": [
    "mail_adress = input(\"Email Adress: \")\n",
    "\n",
    "if \"@\" in mail_adress:\n",
    "    print(\"E-Mail is Valid.\")\n",
    "    \n",
    "\n",
    "else:\n",
    "    print(\"Email is Not Valid.\")"
   ]
  },
  {
   "cell_type": "code",
   "execution_count": 14,
   "id": "cd2a0fd7",
   "metadata": {},
   "outputs": [
    {
     "name": "stdout",
     "output_type": "stream",
     "text": [
      "Email Adress: theatesman@gmailcom\n",
      "Email is Not Valid.\n"
     ]
    }
   ],
   "source": [
    "mail_adress = input(\"Email Adress: \")\n",
    "\n",
    "if not \"@\" in mail_adress:\n",
    "    print(\"E-Mail is not Valid.\")\n",
    "    \n",
    "elif not \".\" in mail_adress:\n",
    "    print(\"Email is Not Valid.\")\n",
    "    \n",
    "else:\n",
    "    print(\"E-Mail is Valid.\")"
   ]
  },
  {
   "cell_type": "code",
   "execution_count": 20,
   "id": "4dec2d73",
   "metadata": {},
   "outputs": [
    {
     "name": "stdout",
     "output_type": "stream",
     "text": [
      "Email Adress: cuneyt\n",
      "E-Mail is NOT Valid.\n"
     ]
    }
   ],
   "source": [
    "mail_adress = input(\"Email Adress: \")\n",
    "\n",
    "if \"@\" in mail_adress and \".\" in mail_adress:  # Use and\n",
    "    print(\"E-Mail is Valid.\")\n",
    "    \n",
    "else:\n",
    "    print(\"E-Mail is NOT Valid.\")"
   ]
  },
  {
   "cell_type": "code",
   "execution_count": 23,
   "id": "b8628d34",
   "metadata": {},
   "outputs": [
    {
     "name": "stdout",
     "output_type": "stream",
     "text": [
      "Sales Amount: 80000\n",
      "How many products sold?: 15\n",
      "Personal High Performance\n"
     ]
    }
   ],
   "source": [
    "sales_revenues= float(input(\"Sales Amount: \"))\n",
    "sales_quantity= int(input(\"How many products sold?: \"))\n",
    "\n",
    "if sales_revenues >= 10000 or sales_quantity >= 25:\n",
    "    print(\"Personal High Performance\")\n",
    "else:\n",
    "    print(\"Personal Low Performance\")\n"
   ]
  },
  {
   "cell_type": "markdown",
   "id": "67d928e2",
   "metadata": {},
   "source": [
    "## Password"
   ]
  },
  {
   "cell_type": "code",
   "execution_count": 18,
   "id": "3ac7f376",
   "metadata": {},
   "outputs": [
    {
     "name": "stdout",
     "output_type": "stream",
     "text": [
      "Please Password: abc1458\n",
      "Your PASSWORD O.K\n"
     ]
    }
   ],
   "source": [
    "ipass= \"abc1458\"\n",
    "\n",
    "inputpass= input(\"Please Password: \")\n",
    "\n",
    "if ipass== inputpass:\n",
    "    print(\"Your PASSWORD O.K\")\n",
    "else:\n",
    "    print(\"Try Again Your Password\")\n"
   ]
  },
  {
   "cell_type": "code",
   "execution_count": null,
   "id": "ef99d39e",
   "metadata": {},
   "outputs": [],
   "source": []
  },
  {
   "cell_type": "code",
   "execution_count": null,
   "id": "185c6974",
   "metadata": {},
   "outputs": [],
   "source": []
  },
  {
   "cell_type": "code",
   "execution_count": null,
   "id": "bd61befc",
   "metadata": {},
   "outputs": [],
   "source": []
  },
  {
   "cell_type": "code",
   "execution_count": null,
   "id": "d8502b43",
   "metadata": {},
   "outputs": [],
   "source": []
  },
  {
   "cell_type": "code",
   "execution_count": null,
   "id": "fa98c4b5",
   "metadata": {},
   "outputs": [],
   "source": []
  },
  {
   "cell_type": "code",
   "execution_count": null,
   "id": "366e24ca",
   "metadata": {},
   "outputs": [],
   "source": []
  },
  {
   "cell_type": "code",
   "execution_count": null,
   "id": "e59c633d",
   "metadata": {},
   "outputs": [],
   "source": []
  },
  {
   "cell_type": "code",
   "execution_count": null,
   "id": "c9cf5c5f",
   "metadata": {},
   "outputs": [],
   "source": []
  },
  {
   "cell_type": "code",
   "execution_count": null,
   "id": "5eebd43d",
   "metadata": {},
   "outputs": [],
   "source": []
  }
 ],
 "metadata": {
  "kernelspec": {
   "display_name": "Python 3 (ipykernel)",
   "language": "python",
   "name": "python3"
  },
  "language_info": {
   "codemirror_mode": {
    "name": "ipython",
    "version": 3
   },
   "file_extension": ".py",
   "mimetype": "text/x-python",
   "name": "python",
   "nbconvert_exporter": "python",
   "pygments_lexer": "ipython3",
   "version": "3.11.9"
  }
 },
 "nbformat": 4,
 "nbformat_minor": 5
}
