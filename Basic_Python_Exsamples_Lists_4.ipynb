{
 "cells": [
  {
   "cell_type": "code",
   "execution_count": 107,
   "id": "e6281df4",
   "metadata": {},
   "outputs": [
    {
     "name": "stdout",
     "output_type": "stream",
     "text": [
      "['Ali', 'Veli', 'Osman', 'Hasan', 'Ayse']\n",
      "[1, 'Car', 'Building', 345.5, 50]\n",
      "<class 'list'>\n",
      "<class 'list'>\n",
      "['Ali', 'Veli', 'Osman', 'Hasan', 'Ayse', 1, 'Car', 'Building', 345.5, 50]\n"
     ]
    }
   ],
   "source": [
    "list1=[\"Ali\", \"Veli\", \"Osman\", \"Hasan\", \"Ayse\"]\n",
    "list2=[1, \"Car\", \"Building\", 345.5, 50]\n",
    "print(list1)\n",
    "print(list2)\n",
    "print(type(list1))\n",
    "print(type(list2))\n",
    "\n",
    "binary_list= list1 + list2\n",
    "print(binary_list)"
   ]
  },
  {
   "cell_type": "code",
   "execution_count": 108,
   "id": "b7f27f72",
   "metadata": {},
   "outputs": [
    {
     "name": "stdout",
     "output_type": "stream",
     "text": [
      "Ali\n"
     ]
    }
   ],
   "source": [
    "print(list1[0])"
   ]
  },
  {
   "cell_type": "code",
   "execution_count": 109,
   "id": "cb1965cf",
   "metadata": {},
   "outputs": [
    {
     "name": "stdout",
     "output_type": "stream",
     "text": [
      "Hasan\n"
     ]
    }
   ],
   "source": [
    "print(list1[3])"
   ]
  },
  {
   "cell_type": "code",
   "execution_count": 110,
   "id": "1b2ddf51",
   "metadata": {},
   "outputs": [
    {
     "name": "stdout",
     "output_type": "stream",
     "text": [
      "50\n"
     ]
    }
   ],
   "source": [
    "print(list2[4])"
   ]
  },
  {
   "cell_type": "code",
   "execution_count": 111,
   "id": "1f419b86",
   "metadata": {},
   "outputs": [
    {
     "name": "stdout",
     "output_type": "stream",
     "text": [
      "['Ali', 'Veli']\n"
     ]
    }
   ],
   "source": [
    "print(list1[0:2])"
   ]
  },
  {
   "cell_type": "code",
   "execution_count": 112,
   "id": "172e3b23",
   "metadata": {},
   "outputs": [
    {
     "name": "stdout",
     "output_type": "stream",
     "text": [
      "['Ali', 'Veli', 'Osman', 'Hasan', 'Ayse']\n"
     ]
    }
   ],
   "source": [
    "print(list1)"
   ]
  },
  {
   "cell_type": "code",
   "execution_count": 113,
   "id": "3b5290b5",
   "metadata": {},
   "outputs": [
    {
     "name": "stdout",
     "output_type": "stream",
     "text": [
      "['Ali', 'Veli']\n"
     ]
    }
   ],
   "source": [
    "print(list1[:2])"
   ]
  },
  {
   "cell_type": "code",
   "execution_count": 114,
   "id": "2abc2a7e",
   "metadata": {},
   "outputs": [
    {
     "name": "stdout",
     "output_type": "stream",
     "text": [
      "['Hasan', 'Ayse']\n"
     ]
    }
   ],
   "source": [
    "print(list1[3:6-1])"
   ]
  },
  {
   "cell_type": "code",
   "execution_count": 115,
   "id": "dbf7d67c",
   "metadata": {},
   "outputs": [
    {
     "name": "stdout",
     "output_type": "stream",
     "text": [
      "['Ali', 'Veli', 'Osman', 'Hasan', 'Ayse']\n"
     ]
    }
   ],
   "source": [
    "print(list1[:])"
   ]
  },
  {
   "cell_type": "code",
   "execution_count": 116,
   "id": "b548c7a7",
   "metadata": {},
   "outputs": [
    {
     "name": "stdout",
     "output_type": "stream",
     "text": [
      "['Veli', 'Osman', 'Hasan', 'Ayse']\n"
     ]
    }
   ],
   "source": [
    "print(list1[1:])"
   ]
  },
  {
   "cell_type": "code",
   "execution_count": 117,
   "id": "f792f245",
   "metadata": {},
   "outputs": [
    {
     "name": "stdout",
     "output_type": "stream",
     "text": [
      "['Ali', 'Veli', 'Osman', 'Hasan', 'Ayse', 1, 'Car', 'Building', 345.5, 50]\n"
     ]
    }
   ],
   "source": [
    "print(list1[:] + list2[:])"
   ]
  },
  {
   "cell_type": "code",
   "execution_count": 118,
   "id": "48ccd3a0",
   "metadata": {},
   "outputs": [
    {
     "name": "stdout",
     "output_type": "stream",
     "text": [
      "['Ali', 'Veli', 'Osman', 'Hasan', 'Ayse', 1, 'Car', 'Building', 345.5, 50]\n"
     ]
    }
   ],
   "source": [
    "print(list1 + list2)"
   ]
  },
  {
   "cell_type": "code",
   "execution_count": 119,
   "id": "18560bf0",
   "metadata": {},
   "outputs": [
    {
     "name": "stdout",
     "output_type": "stream",
     "text": [
      "Ayse\n"
     ]
    }
   ],
   "source": [
    "print(list1[-1])"
   ]
  },
  {
   "cell_type": "code",
   "execution_count": 120,
   "id": "0958df9f",
   "metadata": {},
   "outputs": [
    {
     "name": "stdout",
     "output_type": "stream",
     "text": [
      "['Veli', 'Osman', 'Hasan']\n"
     ]
    }
   ],
   "source": [
    "print(list1[-4:-1])"
   ]
  },
  {
   "cell_type": "code",
   "execution_count": 121,
   "id": "7409677d",
   "metadata": {},
   "outputs": [
    {
     "name": "stdout",
     "output_type": "stream",
     "text": [
      "['Veli', 'Osman', 'Hasan']\n"
     ]
    }
   ],
   "source": [
    "print(list1[1:4])"
   ]
  },
  {
   "cell_type": "code",
   "execution_count": 122,
   "id": "294193c0",
   "metadata": {},
   "outputs": [
    {
     "name": "stdout",
     "output_type": "stream",
     "text": [
      "['Ali', 'Osman', 'Ayse']\n"
     ]
    }
   ],
   "source": [
    "print(list1[0:5:2])"
   ]
  },
  {
   "cell_type": "code",
   "execution_count": 123,
   "id": "a14c148c",
   "metadata": {},
   "outputs": [
    {
     "name": "stdout",
     "output_type": "stream",
     "text": [
      "[1, 3, 5, 7, 9]\n"
     ]
    }
   ],
   "source": [
    "list_number=[1,2,3,4,5,6,7,8,9,10]\n",
    "print(list_number[0:11:2])"
   ]
  },
  {
   "cell_type": "code",
   "execution_count": 124,
   "id": "c55a3f7f",
   "metadata": {},
   "outputs": [
    {
     "name": "stdout",
     "output_type": "stream",
     "text": [
      "[1, 4, 7, 10]\n"
     ]
    }
   ],
   "source": [
    "list_number=[1,2,3,4,5,6,7,8,9,10]\n",
    "print(list_number[0:11:3])"
   ]
  },
  {
   "cell_type": "code",
   "execution_count": 125,
   "id": "0d64a31d",
   "metadata": {},
   "outputs": [
    {
     "name": "stdout",
     "output_type": "stream",
     "text": [
      "[1, 5, 9]\n"
     ]
    }
   ],
   "source": [
    "list_number=[1,2,3,4,5,6,7,8,9,10]\n",
    "print(list_number[0:11:4])"
   ]
  },
  {
   "cell_type": "code",
   "execution_count": 126,
   "id": "935140cf",
   "metadata": {},
   "outputs": [
    {
     "name": "stdout",
     "output_type": "stream",
     "text": [
      "[1, 3, 5, 7, 9]\n"
     ]
    }
   ],
   "source": [
    "list_number=[1,2,3,4,5,6,7,8,9,10]\n",
    "print(list_number[:11:2])"
   ]
  },
  {
   "cell_type": "code",
   "execution_count": 127,
   "id": "f5e64e25",
   "metadata": {},
   "outputs": [
    {
     "name": "stdout",
     "output_type": "stream",
     "text": [
      "[1, 3, 5, 7, 9]\n"
     ]
    }
   ],
   "source": [
    "list_number=[1,2,3,4,5,6,7,8,9,10]\n",
    "print(list_number[::2])"
   ]
  },
  {
   "cell_type": "code",
   "execution_count": null,
   "id": "5466d70d",
   "metadata": {},
   "outputs": [],
   "source": []
  },
  {
   "cell_type": "code",
   "execution_count": null,
   "id": "460aef3d",
   "metadata": {},
   "outputs": [],
   "source": []
  },
  {
   "cell_type": "code",
   "execution_count": null,
   "id": "95f03bfb",
   "metadata": {},
   "outputs": [],
   "source": []
  },
  {
   "cell_type": "code",
   "execution_count": null,
   "id": "895c8d1d",
   "metadata": {},
   "outputs": [],
   "source": []
  }
 ],
 "metadata": {
  "kernelspec": {
   "display_name": "Python 3 (ipykernel)",
   "language": "python",
   "name": "python3"
  },
  "language_info": {
   "codemirror_mode": {
    "name": "ipython",
    "version": 3
   },
   "file_extension": ".py",
   "mimetype": "text/x-python",
   "name": "python",
   "nbconvert_exporter": "python",
   "pygments_lexer": "ipython3",
   "version": "3.11.9"
  }
 },
 "nbformat": 4,
 "nbformat_minor": 5
}
